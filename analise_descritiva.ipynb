{
 "cells": [
  {
   "attachments": {},
   "cell_type": "markdown",
   "metadata": {},
   "source": [
    "# <font color='gold'>**_Análise Exploratória Descritiva: Metacritic Score - Video Games_**</font> 🎮\n",
    "\n",
    "\n",
    "<kbd><img src=\"https://raw.githubusercontent.com/JoSEPHDev2022/Metacritc_Scores_Video_Games/main/images/gamer_stock.jpg\" width=1000 height=350></kbd>\n",
    "---"
   ]
  },
  {
   "attachments": {},
   "cell_type": "markdown",
   "metadata": {},
   "source": [
    "# <font color='gold'>**_Objetivos_**</font>\n",
    "\n",
    "---"
   ]
  },
  {
   "attachments": {},
   "cell_type": "markdown",
   "metadata": {},
   "source": [
    "Nesse projeto, iremos realizar uma análise exploratória descritiva de dados em um [Dataset](https://www.kaggle.com/datasets/patkle/metacritic-scores-for-games-movies-tv-and-music) que contém avaliações fornecidas pelo [Metacritic](https://www.metacritic.com/game) sobre diversos títulos de Video-Games. Como um sumário do que será realizado nesse projeto, temos:\n",
    "\n",
    "<font color='gold'>**_1._**</font> **Compreender os Dados**:\n",
    "- Aqui será realizada uma análise estatística-descritiva dos dados crus, buscando compreender seu formato e suas características centrais originais.\n",
    "\n",
    "<font color='gold'>**_2._**</font> **Limpeza, Correção e Tratamento**:\n",
    "- Realizaremos a limpeza e tratamento desses dados. Com as informações adiquiridas na etapa anterior, iremos buscar adaptar e refatorar o Dataset para o melhor formato possível.\n",
    "\n",
    "- Utilizaremos funções como principal maneira de limpeza e tratamento.\n",
    "\n",
    "- Também iremos utilizar de Histogramas visualizarmos a distribuição dos dados.\n",
    "\n",
    "<font color='gold'>**_3._**</font> **Análise Exploratória e Visualizações**:\n",
    "- Após a compreensão e tratamento desses dados, iremos realizar uma análise exploratória, buscando gerar insights e a retirada de informações relevantes e curiosas dos dados.\n",
    "\n",
    "- Para isso, utilizaremos de diversas visualizações utilizando Matplotlib e Seaborn."
   ]
  },
  {
   "attachments": {},
   "cell_type": "markdown",
   "metadata": {},
   "source": [
    "# <font color='gold'>**_Importando Pacotes e Compreendendo Dados_**</font>\n",
    "\n",
    "---"
   ]
  },
  {
   "cell_type": "code",
   "execution_count": 4,
   "metadata": {},
   "outputs": [
    {
     "name": "stdout",
     "output_type": "stream",
     "text": [
      "---------------- Pacotes Prontos! Versões Utilizadas: ----------------\n",
      "Python:     --> 3.9.16\n",
      "Pandas:     --> 1.5.2\n",
      "Numpy:      --> 1.23.5\n",
      "Matplotlib: --> 3.6.2\n",
      "Seaborn:    --> 0.11.2\n"
     ]
    }
   ],
   "source": [
    "# Importando bibliotecas necessárias para análise:\n",
    "import pandas as pd\n",
    "import numpy as np\n",
    "import matplotlib\n",
    "import matplotlib.pyplot as plt\n",
    "import seaborn as sns\n",
    "import warnings\n",
    "from platform import python_version\n",
    "from matplotlib.pyplot import FuncFormatter\n",
    "\n",
    "# Setando estilo escuto do grid para gráficos Seaborn:\n",
    "sns.set_theme(context='notebook', style='darkgrid')\n",
    "\n",
    "# Filtrando avisos de erro:\n",
    "warnings.filterwarnings('ignore')\n",
    "\n",
    "# Mostrando versões utilizadas:\n",
    "print(' Pacotes Prontos! Versões Utilizadas: '.center(70, '-'))\n",
    "print(f'Python:     --> {python_version()}')\n",
    "print(f'Pandas:     --> {pd.__version__}')\n",
    "print(f'Numpy:      --> {np.__version__}')\n",
    "print(f'Matplotlib: --> {matplotlib.__version__}')\n",
    "print(f'Seaborn:    --> {sns.__version__}')\n"
   ]
  },
  {
   "cell_type": "code",
   "execution_count": 5,
   "metadata": {},
   "outputs": [],
   "source": [
    "# Criando o Dataframe:\n",
    "data_raw = pd.read_csv('data/games.csv', sep=',')"
   ]
  },
  {
   "cell_type": "code",
   "execution_count": 6,
   "metadata": {},
   "outputs": [
    {
     "data": {
      "text/html": [
       "<div>\n",
       "<style scoped>\n",
       "    .dataframe tbody tr th:only-of-type {\n",
       "        vertical-align: middle;\n",
       "    }\n",
       "\n",
       "    .dataframe tbody tr th {\n",
       "        vertical-align: top;\n",
       "    }\n",
       "\n",
       "    .dataframe thead th {\n",
       "        text-align: right;\n",
       "    }\n",
       "</style>\n",
       "<table border=\"1\" class=\"dataframe\">\n",
       "  <thead>\n",
       "    <tr style=\"text-align: right;\">\n",
       "      <th></th>\n",
       "      <th>id</th>\n",
       "      <th>metascore</th>\n",
       "      <th>platform</th>\n",
       "      <th>release_date</th>\n",
       "      <th>sort_no</th>\n",
       "      <th>summary</th>\n",
       "      <th>title</th>\n",
       "      <th>user_score</th>\n",
       "    </tr>\n",
       "  </thead>\n",
       "  <tbody>\n",
       "    <tr>\n",
       "      <th>0</th>\n",
       "      <td>543718</td>\n",
       "      <td>91</td>\n",
       "      <td>PC</td>\n",
       "      <td>August 18, 2020</td>\n",
       "      <td>301</td>\n",
       "      <td>From light planes to wide-body jets, fly highl...</td>\n",
       "      <td>Microsoft Flight Simulator</td>\n",
       "      <td>7.1</td>\n",
       "    </tr>\n",
       "    <tr>\n",
       "      <th>1</th>\n",
       "      <td>555108</td>\n",
       "      <td>91</td>\n",
       "      <td>PC</td>\n",
       "      <td>December 8, 2022</td>\n",
       "      <td>302</td>\n",
       "      <td>Take up your sword, channel your magic or boar...</td>\n",
       "      <td>Chained Echoes</td>\n",
       "      <td>8.7</td>\n",
       "    </tr>\n",
       "    <tr>\n",
       "      <th>2</th>\n",
       "      <td>106820</td>\n",
       "      <td>91</td>\n",
       "      <td>PlayStation 2</td>\n",
       "      <td>November 7, 2005</td>\n",
       "      <td>303</td>\n",
       "      <td>Strap on your Guitar Hero SG controller, plug-...</td>\n",
       "      <td>Guitar Hero</td>\n",
       "      <td>8.5</td>\n",
       "    </tr>\n",
       "    <tr>\n",
       "      <th>3</th>\n",
       "      <td>110775</td>\n",
       "      <td>91</td>\n",
       "      <td>PC</td>\n",
       "      <td>November 13, 2008</td>\n",
       "      <td>304</td>\n",
       "      <td>Players last visited Northrend in \"Warcraft II...</td>\n",
       "      <td>World of Warcraft: Wrath of the Lich King</td>\n",
       "      <td>7.7</td>\n",
       "    </tr>\n",
       "    <tr>\n",
       "      <th>4</th>\n",
       "      <td>142864</td>\n",
       "      <td>91</td>\n",
       "      <td>Wii</td>\n",
       "      <td>October 26, 2010</td>\n",
       "      <td>305</td>\n",
       "      <td>Rock Band returns with the third iteration of ...</td>\n",
       "      <td>Rock Band 3</td>\n",
       "      <td>6.8</td>\n",
       "    </tr>\n",
       "    <tr>\n",
       "      <th>5</th>\n",
       "      <td>114951</td>\n",
       "      <td>91</td>\n",
       "      <td>Wii</td>\n",
       "      <td>August 24, 2009</td>\n",
       "      <td>306</td>\n",
       "      <td>Metroid Prime 3: Corruption set a new standard...</td>\n",
       "      <td>Metroid Prime Trilogy</td>\n",
       "      <td>9</td>\n",
       "    </tr>\n",
       "    <tr>\n",
       "      <th>6</th>\n",
       "      <td>397035</td>\n",
       "      <td>91</td>\n",
       "      <td>PC</td>\n",
       "      <td>May 23, 2016</td>\n",
       "      <td>307</td>\n",
       "      <td>Overwatch is a highly stylized team-based shoo...</td>\n",
       "      <td>Overwatch</td>\n",
       "      <td>6.4</td>\n",
       "    </tr>\n",
       "    <tr>\n",
       "      <th>7</th>\n",
       "      <td>102812</td>\n",
       "      <td>91</td>\n",
       "      <td>PC</td>\n",
       "      <td>June 24, 2003</td>\n",
       "      <td>308</td>\n",
       "      <td>Cutting-edge technology brings you the most ac...</td>\n",
       "      <td>F1 Challenge '99-'02</td>\n",
       "      <td>7.7</td>\n",
       "    </tr>\n",
       "    <tr>\n",
       "      <th>8</th>\n",
       "      <td>161540</td>\n",
       "      <td>91</td>\n",
       "      <td>GameCube</td>\n",
       "      <td>October 23, 2002</td>\n",
       "      <td>309</td>\n",
       "      <td>Drop into the ultimate challenge.  In the next...</td>\n",
       "      <td>Tony Hawk's Pro Skater 4</td>\n",
       "      <td>8.2</td>\n",
       "    </tr>\n",
       "    <tr>\n",
       "      <th>9</th>\n",
       "      <td>100705</td>\n",
       "      <td>91</td>\n",
       "      <td>PlayStation 2</td>\n",
       "      <td>October 23, 2000</td>\n",
       "      <td>310</td>\n",
       "      <td>EA Sports steps up to the challenge of Sega's ...</td>\n",
       "      <td>Madden NFL 2001</td>\n",
       "      <td>7.5</td>\n",
       "    </tr>\n",
       "  </tbody>\n",
       "</table>\n",
       "</div>"
      ],
      "text/plain": [
       "       id  metascore       platform       release_date  sort_no  \\\n",
       "0  543718         91             PC    August 18, 2020      301   \n",
       "1  555108         91             PC   December 8, 2022      302   \n",
       "2  106820         91  PlayStation 2   November 7, 2005      303   \n",
       "3  110775         91             PC  November 13, 2008      304   \n",
       "4  142864         91            Wii   October 26, 2010      305   \n",
       "5  114951         91            Wii    August 24, 2009      306   \n",
       "6  397035         91             PC       May 23, 2016      307   \n",
       "7  102812         91             PC      June 24, 2003      308   \n",
       "8  161540         91       GameCube   October 23, 2002      309   \n",
       "9  100705         91  PlayStation 2   October 23, 2000      310   \n",
       "\n",
       "                                             summary  \\\n",
       "0  From light planes to wide-body jets, fly highl...   \n",
       "1  Take up your sword, channel your magic or boar...   \n",
       "2  Strap on your Guitar Hero SG controller, plug-...   \n",
       "3  Players last visited Northrend in \"Warcraft II...   \n",
       "4  Rock Band returns with the third iteration of ...   \n",
       "5  Metroid Prime 3: Corruption set a new standard...   \n",
       "6  Overwatch is a highly stylized team-based shoo...   \n",
       "7  Cutting-edge technology brings you the most ac...   \n",
       "8  Drop into the ultimate challenge.  In the next...   \n",
       "9  EA Sports steps up to the challenge of Sega's ...   \n",
       "\n",
       "                                       title user_score  \n",
       "0                 Microsoft Flight Simulator        7.1  \n",
       "1                             Chained Echoes        8.7  \n",
       "2                                Guitar Hero        8.5  \n",
       "3  World of Warcraft: Wrath of the Lich King        7.7  \n",
       "4                                Rock Band 3        6.8  \n",
       "5                      Metroid Prime Trilogy          9  \n",
       "6                                  Overwatch        6.4  \n",
       "7                       F1 Challenge '99-'02        7.7  \n",
       "8                   Tony Hawk's Pro Skater 4        8.2  \n",
       "9                            Madden NFL 2001        7.5  "
      ]
     },
     "execution_count": 6,
     "metadata": {},
     "output_type": "execute_result"
    }
   ],
   "source": [
    "# Visualizando primeiros registros:\n",
    "data_raw.head(10)"
   ]
  },
  {
   "cell_type": "code",
   "execution_count": 7,
   "metadata": {},
   "outputs": [
    {
     "data": {
      "text/html": [
       "<div>\n",
       "<style scoped>\n",
       "    .dataframe tbody tr th:only-of-type {\n",
       "        vertical-align: middle;\n",
       "    }\n",
       "\n",
       "    .dataframe tbody tr th {\n",
       "        vertical-align: top;\n",
       "    }\n",
       "\n",
       "    .dataframe thead th {\n",
       "        text-align: right;\n",
       "    }\n",
       "</style>\n",
       "<table border=\"1\" class=\"dataframe\">\n",
       "  <thead>\n",
       "    <tr style=\"text-align: right;\">\n",
       "      <th></th>\n",
       "      <th>id</th>\n",
       "      <th>metascore</th>\n",
       "      <th>platform</th>\n",
       "      <th>release_date</th>\n",
       "      <th>sort_no</th>\n",
       "      <th>summary</th>\n",
       "      <th>title</th>\n",
       "      <th>user_score</th>\n",
       "    </tr>\n",
       "  </thead>\n",
       "  <tbody>\n",
       "    <tr>\n",
       "      <th>324</th>\n",
       "      <td>101559</td>\n",
       "      <td>92</td>\n",
       "      <td>PlayStation 2</td>\n",
       "      <td>November 5, 2001</td>\n",
       "      <td>207</td>\n",
       "      <td>Second-generation rider physics provide more i...</td>\n",
       "      <td>SSX Tricky</td>\n",
       "      <td>8.9</td>\n",
       "    </tr>\n",
       "    <tr>\n",
       "      <th>4769</th>\n",
       "      <td>113099</td>\n",
       "      <td>80</td>\n",
       "      <td>PC</td>\n",
       "      <td>November 7, 2008</td>\n",
       "      <td>4770</td>\n",
       "      <td>The madcap Penny Arcade experience continues. ...</td>\n",
       "      <td>Penny Arcade Adventures: Episode Two</td>\n",
       "      <td>7.4</td>\n",
       "    </tr>\n",
       "    <tr>\n",
       "      <th>3811</th>\n",
       "      <td>101632</td>\n",
       "      <td>81</td>\n",
       "      <td>PlayStation 2</td>\n",
       "      <td>October 1, 2001</td>\n",
       "      <td>3812</td>\n",
       "      <td>Two-player light gun action is here. Namco bri...</td>\n",
       "      <td>Time Crisis II</td>\n",
       "      <td>7.9</td>\n",
       "    </tr>\n",
       "    <tr>\n",
       "      <th>910</th>\n",
       "      <td>229984</td>\n",
       "      <td>88</td>\n",
       "      <td>3DS</td>\n",
       "      <td>October 12, 2013</td>\n",
       "      <td>911</td>\n",
       "      <td>Pokemon X and Y are the first mainline Pokemon...</td>\n",
       "      <td>Pokemon Y</td>\n",
       "      <td>7.5</td>\n",
       "    </tr>\n",
       "    <tr>\n",
       "      <th>14803</th>\n",
       "      <td>510046</td>\n",
       "      <td>64</td>\n",
       "      <td>PlayStation 4</td>\n",
       "      <td>June 26, 2018</td>\n",
       "      <td>14804</td>\n",
       "      <td>The newest iteration in the franchise, The Cre...</td>\n",
       "      <td>The Crew 2</td>\n",
       "      <td>5.6</td>\n",
       "    </tr>\n",
       "    <tr>\n",
       "      <th>5081</th>\n",
       "      <td>492247</td>\n",
       "      <td>79</td>\n",
       "      <td>PC</td>\n",
       "      <td>September 24, 2015</td>\n",
       "      <td>5182</td>\n",
       "      <td>A game about friendship, love and technology i...</td>\n",
       "      <td>Else Heart.Break()</td>\n",
       "      <td>7.2</td>\n",
       "    </tr>\n",
       "    <tr>\n",
       "      <th>2768</th>\n",
       "      <td>520065</td>\n",
       "      <td>83</td>\n",
       "      <td>Switch</td>\n",
       "      <td>October 19, 2018</td>\n",
       "      <td>2869</td>\n",
       "      <td>Re-experience the critically acclaimed, genre-...</td>\n",
       "      <td>Dark Souls Remastered</td>\n",
       "      <td>8.1</td>\n",
       "    </tr>\n",
       "    <tr>\n",
       "      <th>10903</th>\n",
       "      <td>103024</td>\n",
       "      <td>71</td>\n",
       "      <td>PlayStation 2</td>\n",
       "      <td>October 13, 2003</td>\n",
       "      <td>10904</td>\n",
       "      <td>Select from more than 30 unique post-apocalypt...</td>\n",
       "      <td>RoadKill</td>\n",
       "      <td>7.8</td>\n",
       "    </tr>\n",
       "    <tr>\n",
       "      <th>9127</th>\n",
       "      <td>102810</td>\n",
       "      <td>74</td>\n",
       "      <td>PC</td>\n",
       "      <td>May 27, 2003</td>\n",
       "      <td>9128</td>\n",
       "      <td>One year after the events that take place in t...</td>\n",
       "      <td>Hulk</td>\n",
       "      <td>6.3</td>\n",
       "    </tr>\n",
       "    <tr>\n",
       "      <th>10504</th>\n",
       "      <td>160982</td>\n",
       "      <td>72</td>\n",
       "      <td>Xbox</td>\n",
       "      <td>October 24, 2002</td>\n",
       "      <td>10505</td>\n",
       "      <td>From the darkest corners, cadavers and zombies...</td>\n",
       "      <td>The House of the Dead III</td>\n",
       "      <td>7.4</td>\n",
       "    </tr>\n",
       "  </tbody>\n",
       "</table>\n",
       "</div>"
      ],
      "text/plain": [
       "           id  metascore       platform        release_date  sort_no  \\\n",
       "324    101559         92  PlayStation 2    November 5, 2001      207   \n",
       "4769   113099         80             PC    November 7, 2008     4770   \n",
       "3811   101632         81  PlayStation 2     October 1, 2001     3812   \n",
       "910    229984         88            3DS    October 12, 2013      911   \n",
       "14803  510046         64  PlayStation 4       June 26, 2018    14804   \n",
       "5081   492247         79             PC  September 24, 2015     5182   \n",
       "2768   520065         83         Switch    October 19, 2018     2869   \n",
       "10903  103024         71  PlayStation 2    October 13, 2003    10904   \n",
       "9127   102810         74             PC        May 27, 2003     9128   \n",
       "10504  160982         72           Xbox    October 24, 2002    10505   \n",
       "\n",
       "                                                 summary  \\\n",
       "324    Second-generation rider physics provide more i...   \n",
       "4769   The madcap Penny Arcade experience continues. ...   \n",
       "3811   Two-player light gun action is here. Namco bri...   \n",
       "910    Pokemon X and Y are the first mainline Pokemon...   \n",
       "14803  The newest iteration in the franchise, The Cre...   \n",
       "5081   A game about friendship, love and technology i...   \n",
       "2768   Re-experience the critically acclaimed, genre-...   \n",
       "10903  Select from more than 30 unique post-apocalypt...   \n",
       "9127   One year after the events that take place in t...   \n",
       "10504  From the darkest corners, cadavers and zombies...   \n",
       "\n",
       "                                      title user_score  \n",
       "324                              SSX Tricky        8.9  \n",
       "4769   Penny Arcade Adventures: Episode Two        7.4  \n",
       "3811                         Time Crisis II        7.9  \n",
       "910                               Pokemon Y        7.5  \n",
       "14803                            The Crew 2        5.6  \n",
       "5081                     Else Heart.Break()        7.2  \n",
       "2768                  Dark Souls Remastered        8.1  \n",
       "10903                              RoadKill        7.8  \n",
       "9127                                   Hulk        6.3  \n",
       "10504             The House of the Dead III        7.4  "
      ]
     },
     "execution_count": 7,
     "metadata": {},
     "output_type": "execute_result"
    }
   ],
   "source": [
    "# Visualizando um sample aleatório dos dados:\n",
    "data_raw.sample(10)"
   ]
  },
  {
   "attachments": {},
   "cell_type": "markdown",
   "metadata": {},
   "source": [
    "Com a visualização geral dos dados podemos nos aprofundar mais em suas características:"
   ]
  },
  {
   "cell_type": "code",
   "execution_count": 8,
   "metadata": {},
   "outputs": [
    {
     "data": {
      "text/plain": [
       "(20022, 8)"
      ]
     },
     "execution_count": 8,
     "metadata": {},
     "output_type": "execute_result"
    }
   ],
   "source": [
    "# Checando dimensões dos dados:\n",
    "data_raw.shape"
   ]
  },
  {
   "attachments": {},
   "cell_type": "markdown",
   "metadata": {},
   "source": [
    "Temos um dataset relativamente grande, contendo **20.022 registros** em **8 variáveis** diferentes.\n",
    "\n",
    "Vamos checar informações mais específicas acerca dessas variáveis:"
   ]
  },
  {
   "cell_type": "code",
   "execution_count": 9,
   "metadata": {},
   "outputs": [
    {
     "name": "stdout",
     "output_type": "stream",
     "text": [
      "<class 'pandas.core.frame.DataFrame'>\n",
      "RangeIndex: 20022 entries, 0 to 20021\n",
      "Data columns (total 8 columns):\n",
      " #   Column        Non-Null Count  Dtype \n",
      "---  ------        --------------  ----- \n",
      " 0   id            20022 non-null  int64 \n",
      " 1   metascore     20022 non-null  int64 \n",
      " 2   platform      20022 non-null  object\n",
      " 3   release_date  20022 non-null  object\n",
      " 4   sort_no       20022 non-null  int64 \n",
      " 5   summary       19930 non-null  object\n",
      " 6   title         20022 non-null  object\n",
      " 7   user_score    20022 non-null  object\n",
      "dtypes: int64(3), object(5)\n",
      "memory usage: 1.2+ MB\n"
     ]
    }
   ],
   "source": [
    "# Visão mais detalhada das variáveis:\n",
    "data_raw.info()"
   ]
  },
  {
   "attachments": {},
   "cell_type": "markdown",
   "metadata": {},
   "source": [
    "Informações relevantes:\n",
    "\n",
    "- Temos alguns valores faltantes apenas na coluna **`summary`**, o que indica que o Dataset está bem completo. Também, esse fator não é um problema pois a coluna **`summary`** não será utilizada nas análises.\n",
    "\n",
    "- Sobre os Data types utilizados: \n",
    "\n",
    "    - iremos avaliar mudanças possíveis, como int32 em vez de int64 nas colunas que possuem esse data type. \n",
    "\n",
    "    - A coluna **`release_date`** será transformada em uma coluna do tipo date em vez de object.\n",
    "\n",
    "    - A coluna **`user_score`** está no formato object quando deveria estar em float, por se tratar da variável que contém as avaliações fornecidas pelos usuários.\n",
    "    \n",
    "Com essas mudanças, a memória consumida será reduzida. Nesse dataset não fará uma diferença notável na performance, porém é uma boa prática sempre deixar os dados no formato mais eficiente possível."
   ]
  },
  {
   "attachments": {},
   "cell_type": "markdown",
   "metadata": {},
   "source": [
    "## **Análise Estatística - Descritiva dos Dados Originais**"
   ]
  },
  {
   "attachments": {},
   "cell_type": "markdown",
   "metadata": {},
   "source": [
    "Conseguimos coletar informações relevantes sobre os dados na etapa anterior, porém para podermos ter uma visão realmente aprofundada desses dados, vamos realizar uma análise estatística para descrever esse conjunto."
   ]
  },
  {
   "attachments": {},
   "cell_type": "markdown",
   "metadata": {},
   "source": [
    "- Resumo Estatístico das Variáveis Numéricas:"
   ]
  },
  {
   "cell_type": "code",
   "execution_count": 10,
   "metadata": {},
   "outputs": [
    {
     "data": {
      "text/html": [
       "<div>\n",
       "<style scoped>\n",
       "    .dataframe tbody tr th:only-of-type {\n",
       "        vertical-align: middle;\n",
       "    }\n",
       "\n",
       "    .dataframe tbody tr th {\n",
       "        vertical-align: top;\n",
       "    }\n",
       "\n",
       "    .dataframe thead th {\n",
       "        text-align: right;\n",
       "    }\n",
       "</style>\n",
       "<table border=\"1\" class=\"dataframe\">\n",
       "  <thead>\n",
       "    <tr style=\"text-align: right;\">\n",
       "      <th></th>\n",
       "      <th>id</th>\n",
       "      <th>metascore</th>\n",
       "      <th>sort_no</th>\n",
       "    </tr>\n",
       "  </thead>\n",
       "  <tbody>\n",
       "    <tr>\n",
       "      <th>count</th>\n",
       "      <td>20022.000000</td>\n",
       "      <td>20022.000000</td>\n",
       "      <td>20022.000000</td>\n",
       "    </tr>\n",
       "    <tr>\n",
       "      <th>mean</th>\n",
       "      <td>296058.651084</td>\n",
       "      <td>70.758566</td>\n",
       "      <td>10011.500000</td>\n",
       "    </tr>\n",
       "    <tr>\n",
       "      <th>std</th>\n",
       "      <td>190522.456059</td>\n",
       "      <td>12.165042</td>\n",
       "      <td>5779.997881</td>\n",
       "    </tr>\n",
       "    <tr>\n",
       "      <th>min</th>\n",
       "      <td>100002.000000</td>\n",
       "      <td>11.000000</td>\n",
       "      <td>1.000000</td>\n",
       "    </tr>\n",
       "    <tr>\n",
       "      <th>25%</th>\n",
       "      <td>112180.250000</td>\n",
       "      <td>64.000000</td>\n",
       "      <td>5006.250000</td>\n",
       "    </tr>\n",
       "    <tr>\n",
       "      <th>50%</th>\n",
       "      <td>188870.500000</td>\n",
       "      <td>72.000000</td>\n",
       "      <td>10011.500000</td>\n",
       "    </tr>\n",
       "    <tr>\n",
       "      <th>75%</th>\n",
       "      <td>510982.250000</td>\n",
       "      <td>80.000000</td>\n",
       "      <td>15016.750000</td>\n",
       "    </tr>\n",
       "    <tr>\n",
       "      <th>max</th>\n",
       "      <td>626054.000000</td>\n",
       "      <td>99.000000</td>\n",
       "      <td>20022.000000</td>\n",
       "    </tr>\n",
       "  </tbody>\n",
       "</table>\n",
       "</div>"
      ],
      "text/plain": [
       "                  id     metascore       sort_no\n",
       "count   20022.000000  20022.000000  20022.000000\n",
       "mean   296058.651084     70.758566  10011.500000\n",
       "std    190522.456059     12.165042   5779.997881\n",
       "min    100002.000000     11.000000      1.000000\n",
       "25%    112180.250000     64.000000   5006.250000\n",
       "50%    188870.500000     72.000000  10011.500000\n",
       "75%    510982.250000     80.000000  15016.750000\n",
       "max    626054.000000     99.000000  20022.000000"
      ]
     },
     "execution_count": 10,
     "metadata": {},
     "output_type": "execute_result"
    }
   ],
   "source": [
    "# Utilizando método describe nas colunas numéricas:\n",
    "data_raw.describe()"
   ]
  },
  {
   "attachments": {},
   "cell_type": "markdown",
   "metadata": {},
   "source": [
    "Nesse dataset temos três variáveis numéricas, porém apenas **`metascore`** nos importa para essa análise, pois as outras duas variáveis são **`id`** e **`sort_no`** não contém informações relevantes por se tratarem de variáveis de organização dos dados (id, clasificação, etc).\n",
    "\n",
    "Sobre a coluna **`metascore`**:\n",
    "\n",
    "- A média geral da avaliação do Metacritic para os jogos (lembrando que essa avaliação vai de 0 a 100) é de **70.8**, uma média bem alta considerando o limite de 100.\n",
    "\n",
    "- O desvio padrão dessas avaliações é de  **12.2** pontos acima ou abaixo da média.\n",
    "\n",
    "- A avaliação mais baixa presente nos dados é de  **11**, realmente um valor bem baixo.\n",
    "\n",
    "- Já a avaliação mais alta é de  **99**, aparentemente nenhum game recebeu a nota máxima de 100.\n",
    "\n",
    "Sobre os quartis e percentis:\n",
    "\n",
    "- 25% das avaliações do Metacritic estão abaixo ou são iguais a  **64**;\n",
    "\n",
    "- 50% das avaliações do Metacritic estão abaixo ou são iguais a  **72**, esse valor representa a mediana das avaliações, ou seja, o valor central dos dados ordenados é 72. Podemos notar que a média e a mediana são valores bem próximos (70.8 e 72), o que indica uma amplitude baixa nas avaliações (sabemos que vão de 0 a 100). Lembrando que a Média é afetada facilmente pela presença de outliers, já a mediana é uma medida que independe de outliers.\n",
    "\n",
    "- 75% das avaliações do metacritic estão abaixo ou são iguais a  **80**;"
   ]
  },
  {
   "attachments": {},
   "cell_type": "markdown",
   "metadata": {},
   "source": [
    "- resumo Estatístico das Variáveis Categóricas:"
   ]
  },
  {
   "cell_type": "code",
   "execution_count": 11,
   "metadata": {},
   "outputs": [
    {
     "data": {
      "text/html": [
       "<div>\n",
       "<style scoped>\n",
       "    .dataframe tbody tr th:only-of-type {\n",
       "        vertical-align: middle;\n",
       "    }\n",
       "\n",
       "    .dataframe tbody tr th {\n",
       "        vertical-align: top;\n",
       "    }\n",
       "\n",
       "    .dataframe thead th {\n",
       "        text-align: right;\n",
       "    }\n",
       "</style>\n",
       "<table border=\"1\" class=\"dataframe\">\n",
       "  <thead>\n",
       "    <tr style=\"text-align: right;\">\n",
       "      <th></th>\n",
       "      <th>platform</th>\n",
       "      <th>release_date</th>\n",
       "      <th>summary</th>\n",
       "      <th>title</th>\n",
       "      <th>user_score</th>\n",
       "    </tr>\n",
       "  </thead>\n",
       "  <tbody>\n",
       "    <tr>\n",
       "      <th>count</th>\n",
       "      <td>20022</td>\n",
       "      <td>20022</td>\n",
       "      <td>19930</td>\n",
       "      <td>20022</td>\n",
       "      <td>20022</td>\n",
       "    </tr>\n",
       "    <tr>\n",
       "      <th>unique</th>\n",
       "      <td>22</td>\n",
       "      <td>4794</td>\n",
       "      <td>15545</td>\n",
       "      <td>12926</td>\n",
       "      <td>94</td>\n",
       "    </tr>\n",
       "    <tr>\n",
       "      <th>top</th>\n",
       "      <td>PC</td>\n",
       "      <td>November 14, 2006</td>\n",
       "      <td>Iron Man, an explosive third-person action sho...</td>\n",
       "      <td>Madden NFL 07</td>\n",
       "      <td>tbd</td>\n",
       "    </tr>\n",
       "    <tr>\n",
       "      <th>freq</th>\n",
       "      <td>5276</td>\n",
       "      <td>48</td>\n",
       "      <td>7</td>\n",
       "      <td>9</td>\n",
       "      <td>1382</td>\n",
       "    </tr>\n",
       "  </tbody>\n",
       "</table>\n",
       "</div>"
      ],
      "text/plain": [
       "       platform       release_date  \\\n",
       "count     20022              20022   \n",
       "unique       22               4794   \n",
       "top          PC  November 14, 2006   \n",
       "freq       5276                 48   \n",
       "\n",
       "                                                  summary          title  \\\n",
       "count                                               19930          20022   \n",
       "unique                                              15545          12926   \n",
       "top     Iron Man, an explosive third-person action sho...  Madden NFL 07   \n",
       "freq                                                    7              9   \n",
       "\n",
       "       user_score  \n",
       "count       20022  \n",
       "unique         94  \n",
       "top           tbd  \n",
       "freq         1382  "
      ]
     },
     "execution_count": 11,
     "metadata": {},
     "output_type": "execute_result"
    }
   ],
   "source": [
    "# Utilizando método describe nas colunas categóricas:\n",
    "data_raw.describe(exclude='number')"
   ]
  },
  {
   "attachments": {},
   "cell_type": "markdown",
   "metadata": {},
   "source": [
    "Das variáveis categóricas, **`release_date`** e **`user_score`** não são apropriadas para essa análise, pois deveriam estar em formato date e float respectivamente. Sendo assim, vamos olhar para as variáveis realmente categóricas nos dados originais:\n",
    "\n",
    "**`platform`**\n",
    "\n",
    "- Temos **22 plataformas diferentes** nos dados. Isso indica uma variedade grande nas tecnologias utilziadas para games como consoles ao longo do tempo.\n",
    "\n",
    "- A plataforma em que mais jogos estão presentes é o  **PC**, contando com  **5.276 registros** nos dados.\n",
    "\n",
    "**`title`**\n",
    "\n",
    "- Temos **12.926 títulos únicos nos dados**. Isso indica que dos 20.022 títulos totais, 7.096 deles podem ser o mesmo jogo porém em um registro diferente para cada plataforma em que esse jogo foi lançado. Isso será explorado mais a frente.\n",
    "\n",
    "Como dito previamente, a coluna **`summary`** não será utilizada, então sua descrição estatística não nos importa."
   ]
  },
  {
   "attachments": {},
   "cell_type": "markdown",
   "metadata": {},
   "source": [
    "# <font color='gold'>**_Tratamento e Limpeza dos Dados_**</font>\n",
    "\n",
    "---"
   ]
  },
  {
   "attachments": {},
   "cell_type": "markdown",
   "metadata": {},
   "source": [
    "Como analisamos acima com a análise estatística, o Dataset não está num formato ideal, tendo data types indevidos para certas variáveis. Esse fator deixa a busca por outliers e a visualização da distribuição dos dados prejudicados, assim, iremos tratar os Data types dos dados, inserir colunas adicionais caso necessário para aprofundar a análise, renomear algumas colunas e reorganizar a distribuição dessas variáveis no Dataset. \n",
    "\n",
    "Após esses ajustes, poderemos utiliziar de Histogramas para a visualização da distribuição dos dados com seus data types corrigidos, possibilitando a identificação e tratamento de outliers e a compreensão da distribuição desses dados.\n",
    "\n",
    "Antes de qualquer modificação, se faz necessária a criação de uma cópia dos dados originais, onde será nessa cópia que todas as modificações serão realizadas."
   ]
  },
  {
   "cell_type": "code",
   "execution_count": 12,
   "metadata": {},
   "outputs": [],
   "source": [
    "# Criando cópia para modificação dos dados:\n",
    "data_clean = data_raw.copy()"
   ]
  },
  {
   "attachments": {},
   "cell_type": "markdown",
   "metadata": {},
   "source": [
    "## **Excluíndo Variávies Desnecessárias para Análise**"
   ]
  },
  {
   "attachments": {},
   "cell_type": "markdown",
   "metadata": {},
   "source": [
    "As variáveis **`id`**, **`sort_no`** e **`summary`** serão removidas do dataset por não serem necessárias para a composição das análises."
   ]
  },
  {
   "cell_type": "code",
   "execution_count": 13,
   "metadata": {},
   "outputs": [],
   "source": [
    "# Excluíndo variáveis:\n",
    "data_clean = data_clean.drop(['id', 'sort_no', 'summary'], axis=1)"
   ]
  },
  {
   "cell_type": "code",
   "execution_count": 14,
   "metadata": {},
   "outputs": [
    {
     "data": {
      "text/html": [
       "<div>\n",
       "<style scoped>\n",
       "    .dataframe tbody tr th:only-of-type {\n",
       "        vertical-align: middle;\n",
       "    }\n",
       "\n",
       "    .dataframe tbody tr th {\n",
       "        vertical-align: top;\n",
       "    }\n",
       "\n",
       "    .dataframe thead th {\n",
       "        text-align: right;\n",
       "    }\n",
       "</style>\n",
       "<table border=\"1\" class=\"dataframe\">\n",
       "  <thead>\n",
       "    <tr style=\"text-align: right;\">\n",
       "      <th></th>\n",
       "      <th>metascore</th>\n",
       "      <th>platform</th>\n",
       "      <th>release_date</th>\n",
       "      <th>title</th>\n",
       "      <th>user_score</th>\n",
       "    </tr>\n",
       "  </thead>\n",
       "  <tbody>\n",
       "    <tr>\n",
       "      <th>0</th>\n",
       "      <td>91</td>\n",
       "      <td>PC</td>\n",
       "      <td>August 18, 2020</td>\n",
       "      <td>Microsoft Flight Simulator</td>\n",
       "      <td>7.1</td>\n",
       "    </tr>\n",
       "    <tr>\n",
       "      <th>1</th>\n",
       "      <td>91</td>\n",
       "      <td>PC</td>\n",
       "      <td>December 8, 2022</td>\n",
       "      <td>Chained Echoes</td>\n",
       "      <td>8.7</td>\n",
       "    </tr>\n",
       "    <tr>\n",
       "      <th>2</th>\n",
       "      <td>91</td>\n",
       "      <td>PlayStation 2</td>\n",
       "      <td>November 7, 2005</td>\n",
       "      <td>Guitar Hero</td>\n",
       "      <td>8.5</td>\n",
       "    </tr>\n",
       "    <tr>\n",
       "      <th>3</th>\n",
       "      <td>91</td>\n",
       "      <td>PC</td>\n",
       "      <td>November 13, 2008</td>\n",
       "      <td>World of Warcraft: Wrath of the Lich King</td>\n",
       "      <td>7.7</td>\n",
       "    </tr>\n",
       "    <tr>\n",
       "      <th>4</th>\n",
       "      <td>91</td>\n",
       "      <td>Wii</td>\n",
       "      <td>October 26, 2010</td>\n",
       "      <td>Rock Band 3</td>\n",
       "      <td>6.8</td>\n",
       "    </tr>\n",
       "  </tbody>\n",
       "</table>\n",
       "</div>"
      ],
      "text/plain": [
       "   metascore       platform       release_date  \\\n",
       "0         91             PC    August 18, 2020   \n",
       "1         91             PC   December 8, 2022   \n",
       "2         91  PlayStation 2   November 7, 2005   \n",
       "3         91             PC  November 13, 2008   \n",
       "4         91            Wii   October 26, 2010   \n",
       "\n",
       "                                       title user_score  \n",
       "0                 Microsoft Flight Simulator        7.1  \n",
       "1                             Chained Echoes        8.7  \n",
       "2                                Guitar Hero        8.5  \n",
       "3  World of Warcraft: Wrath of the Lich King        7.7  \n",
       "4                                Rock Band 3        6.8  "
      ]
     },
     "execution_count": 14,
     "metadata": {},
     "output_type": "execute_result"
    }
   ],
   "source": [
    "# Verificando dados:\n",
    "data_clean.head(5)"
   ]
  },
  {
   "attachments": {},
   "cell_type": "markdown",
   "metadata": {},
   "source": [
    "## **Renomeando Variáveis**"
   ]
  },
  {
   "attachments": {},
   "cell_type": "markdown",
   "metadata": {},
   "source": [
    "Com apenas as colunas que queremos presentes nos dados, vamos renomeá-las para padronização e visualização melhores."
   ]
  },
  {
   "cell_type": "code",
   "execution_count": 15,
   "metadata": {},
   "outputs": [],
   "source": [
    "# Renomenado variáveis:\n",
    "data_clean = (data_clean\n",
    "              .rename(columns=\n",
    "                      {'metascore': 'Metascore',\n",
    "                       'platform': 'Platform',\n",
    "                       'release_date': 'Release_date',\n",
    "                       'title': 'Game_title',\n",
    "                       'user_score': 'User_score'}\n",
    "                       ))"
   ]
  },
  {
   "cell_type": "code",
   "execution_count": 16,
   "metadata": {},
   "outputs": [
    {
     "data": {
      "text/html": [
       "<div>\n",
       "<style scoped>\n",
       "    .dataframe tbody tr th:only-of-type {\n",
       "        vertical-align: middle;\n",
       "    }\n",
       "\n",
       "    .dataframe tbody tr th {\n",
       "        vertical-align: top;\n",
       "    }\n",
       "\n",
       "    .dataframe thead th {\n",
       "        text-align: right;\n",
       "    }\n",
       "</style>\n",
       "<table border=\"1\" class=\"dataframe\">\n",
       "  <thead>\n",
       "    <tr style=\"text-align: right;\">\n",
       "      <th></th>\n",
       "      <th>Metascore</th>\n",
       "      <th>Platform</th>\n",
       "      <th>Release_date</th>\n",
       "      <th>Game_title</th>\n",
       "      <th>User_score</th>\n",
       "    </tr>\n",
       "  </thead>\n",
       "  <tbody>\n",
       "    <tr>\n",
       "      <th>0</th>\n",
       "      <td>91</td>\n",
       "      <td>PC</td>\n",
       "      <td>August 18, 2020</td>\n",
       "      <td>Microsoft Flight Simulator</td>\n",
       "      <td>7.1</td>\n",
       "    </tr>\n",
       "    <tr>\n",
       "      <th>1</th>\n",
       "      <td>91</td>\n",
       "      <td>PC</td>\n",
       "      <td>December 8, 2022</td>\n",
       "      <td>Chained Echoes</td>\n",
       "      <td>8.7</td>\n",
       "    </tr>\n",
       "    <tr>\n",
       "      <th>2</th>\n",
       "      <td>91</td>\n",
       "      <td>PlayStation 2</td>\n",
       "      <td>November 7, 2005</td>\n",
       "      <td>Guitar Hero</td>\n",
       "      <td>8.5</td>\n",
       "    </tr>\n",
       "    <tr>\n",
       "      <th>3</th>\n",
       "      <td>91</td>\n",
       "      <td>PC</td>\n",
       "      <td>November 13, 2008</td>\n",
       "      <td>World of Warcraft: Wrath of the Lich King</td>\n",
       "      <td>7.7</td>\n",
       "    </tr>\n",
       "    <tr>\n",
       "      <th>4</th>\n",
       "      <td>91</td>\n",
       "      <td>Wii</td>\n",
       "      <td>October 26, 2010</td>\n",
       "      <td>Rock Band 3</td>\n",
       "      <td>6.8</td>\n",
       "    </tr>\n",
       "  </tbody>\n",
       "</table>\n",
       "</div>"
      ],
      "text/plain": [
       "   Metascore       Platform       Release_date  \\\n",
       "0         91             PC    August 18, 2020   \n",
       "1         91             PC   December 8, 2022   \n",
       "2         91  PlayStation 2   November 7, 2005   \n",
       "3         91             PC  November 13, 2008   \n",
       "4         91            Wii   October 26, 2010   \n",
       "\n",
       "                                  Game_title User_score  \n",
       "0                 Microsoft Flight Simulator        7.1  \n",
       "1                             Chained Echoes        8.7  \n",
       "2                                Guitar Hero        8.5  \n",
       "3  World of Warcraft: Wrath of the Lich King        7.7  \n",
       "4                                Rock Band 3        6.8  "
      ]
     },
     "execution_count": 16,
     "metadata": {},
     "output_type": "execute_result"
    }
   ],
   "source": [
    "# Visualizando dados:\n",
    "data_clean.head(5)"
   ]
  },
  {
   "attachments": {},
   "cell_type": "markdown",
   "metadata": {},
   "source": [
    "## **Alteração de Data Types**"
   ]
  },
  {
   "attachments": {},
   "cell_type": "markdown",
   "metadata": {},
   "source": [
    "Agora, vamos alterar os data types necessários. Para isso, vamos checar novamente esses dtypes:"
   ]
  },
  {
   "cell_type": "code",
   "execution_count": 17,
   "metadata": {},
   "outputs": [
    {
     "data": {
      "text/plain": [
       "Metascore        int64\n",
       "Platform        object\n",
       "Release_date    object\n",
       "Game_title      object\n",
       "User_score      object\n",
       "dtype: object"
      ]
     },
     "execution_count": 17,
     "metadata": {},
     "output_type": "execute_result"
    }
   ],
   "source": [
    "# Checando dtypes:\n",
    "data_clean.dtypes"
   ]
  },
  {
   "attachments": {},
   "cell_type": "markdown",
   "metadata": {},
   "source": [
    "Alterações:\n",
    "\n",
    "- **`Metascore`** - Transformada para int8. Lembrando que int8 aceita valores que estão entre -128 e 128, já que o Metascore vai de 0 a 100, o formato int8 se torna ideal para essa variável.\n",
    "\n",
    "- **`Release_date`** - Será transformada em Datetime.\n",
    "\n",
    "- **`User_score`** - Transformada para float."
   ]
  },
  {
   "attachments": {},
   "cell_type": "markdown",
   "metadata": {},
   "source": [
    "Para termos certeza que nossas alterações serão realizadas, vamos checar se a coluna **`Metascore`** e **`User_score`** possuem apenas valores numéricos:"
   ]
  },
  {
   "cell_type": "code",
   "execution_count": 18,
   "metadata": {},
   "outputs": [
    {
     "name": "stdout",
     "output_type": "stream",
     "text": [
      "Variável         Possuí Apenas Numéricos\n"
     ]
    },
    {
     "data": {
      "text/plain": [
       "Metascore        True\n",
       "Platform        False\n",
       "Release_date    False\n",
       "Game_title      False\n",
       "User_score      False\n",
       "dtype: bool"
      ]
     },
     "execution_count": 18,
     "metadata": {},
     "output_type": "execute_result"
    }
   ],
   "source": [
    "# Checando se colunas possuem apenas valores numéricos:\n",
    "print('Variável         Possuí Apenas Numéricos')\n",
    "\n",
    "data_clean.apply(lambda values: \n",
    "                    pd.to_numeric(values, errors='coerce').notnull().all())"
   ]
  },
  {
   "attachments": {},
   "cell_type": "markdown",
   "metadata": {},
   "source": [
    "Com isso podemos notar que a variável **`Metascore`** possui apenas valores numéricos, porém **`User_score`** não. Sendo assim, para podermos alterar o dtype dessa variável, precisamos antes remover valores que não são numéricos. Vamos checar essa variável e seus valores:"
   ]
  },
  {
   "cell_type": "code",
   "execution_count": 19,
   "metadata": {},
   "outputs": [
    {
     "data": {
      "text/plain": [
       "array(['7.1', '8.7', '8.5', '7.7', '6.8', '9', '6.4', '8.2', '7.5', '8.9',\n",
       "       '9.1', '8.1', '8.6', '8.3', '7.9', '9.6', '8', '8.4', '5.9', '7.4',\n",
       "       '6.7', '6.6', '8.8', '6', '7.8', '9.2', '4', '9.5', '6.3', '7.6',\n",
       "       '7.3', '7.2', '6.2', '9.3', '7', '6.5', '5.6', '6.9', '5.7', '5.4',\n",
       "       '3.3', '5', '5.2', '9.4', '5.8', '5.3', '3.5', '4.8', '6.1', '4.7',\n",
       "       '4.2', '3.4', '2.1', 'tbd', '4.5', '4.1', '5.5', '3', '2.8', '4.4',\n",
       "       '3.9', '4.9', '3.6', '4.3', '5.1', '1.8', '4.6', '3.1', '9.7',\n",
       "       '3.2', '2.2', '2.9', '2.5', '3.7', '3.8', '2', '2.7', '2.3', '1.6',\n",
       "       '1.3', '2.6', '0.9', '2.4', '1.4', '1.5', '1.7', '1', '1.1', '1.9',\n",
       "       '0.6', '0.5', '0.3', '1.2', '0.7'], dtype=object)"
      ]
     },
     "execution_count": 19,
     "metadata": {},
     "output_type": "execute_result"
    }
   ],
   "source": [
    "# Checando valores da coluna user_score:\n",
    "data_clean['User_score'].unique()"
   ]
  },
  {
   "attachments": {},
   "cell_type": "markdown",
   "metadata": {},
   "source": [
    "Com isso, vemos que alguns registros possuem o valor **'tbd'** que é uma string. Vamos checar quantos registros possuem essa string:"
   ]
  },
  {
   "cell_type": "code",
   "execution_count": 20,
   "metadata": {},
   "outputs": [
    {
     "data": {
      "text/plain": [
       "1382"
      ]
     },
     "execution_count": 20,
     "metadata": {},
     "output_type": "execute_result"
    }
   ],
   "source": [
    "# Contando aparições da string 'tbd':\n",
    "data_clean[data_clean['User_score'] == 'tbd']['User_score'].count() "
   ]
  },
  {
   "attachments": {},
   "cell_type": "markdown",
   "metadata": {},
   "source": [
    "Temos **1.382** registros que contém a string 'tbd'. Com uma rápida pesquisa na página de fonte desses dados no Metacritic, temos que a string 'tbd' representa jogos que não tiveram nenhuma avaliação dos usuários até então. Nesse caso, iremos substituir esses valores por -1 antes de realizar a alteração do data type para float. \n",
    "\n",
    "-1 pois como o range de notas possíveis dos usuários é de 0 a 10, inserir um valor negativo aponta que aquele registro não recebeu avaliação"
   ]
  },
  {
   "cell_type": "code",
   "execution_count": 21,
   "metadata": {},
   "outputs": [],
   "source": [
    "# Substituíndo a string por -1:\n",
    "data_clean['User_score'] = (data_clean['User_score']\n",
    "              .apply(lambda value: -1 if value == 'tbd' else value))"
   ]
  },
  {
   "cell_type": "code",
   "execution_count": 22,
   "metadata": {},
   "outputs": [
    {
     "data": {
      "text/plain": [
       "0"
      ]
     },
     "execution_count": 22,
     "metadata": {},
     "output_type": "execute_result"
    }
   ],
   "source": [
    "# Contando aparições da string 'tbd':\n",
    "data_clean[data_clean['User_score'] == 'tbd']['User_score'].count() "
   ]
  },
  {
   "attachments": {},
   "cell_type": "markdown",
   "metadata": {},
   "source": [
    "Com as variáveis no formato adequado, podemos alterar os data types:"
   ]
  },
  {
   "cell_type": "code",
   "execution_count": 23,
   "metadata": {},
   "outputs": [],
   "source": [
    "# Alterando dtypes:\n",
    "data_clean = (data_clean\n",
    "              .astype({'Metascore': 'int8',\n",
    "                       'User_score': 'float'}))\n",
    "\n",
    "data_clean['Release_date'] = pd.to_datetime(data_clean['Release_date'])"
   ]
  },
  {
   "attachments": {},
   "cell_type": "markdown",
   "metadata": {},
   "source": [
    "Com as alterações feitas nos data types, vamos checar o consumo de memória dos dados:"
   ]
  },
  {
   "cell_type": "code",
   "execution_count": 24,
   "metadata": {},
   "outputs": [
    {
     "name": "stdout",
     "output_type": "stream",
     "text": [
      "<class 'pandas.core.frame.DataFrame'>\n",
      "RangeIndex: 20022 entries, 0 to 20021\n",
      "Data columns (total 5 columns):\n",
      " #   Column        Non-Null Count  Dtype         \n",
      "---  ------        --------------  -----         \n",
      " 0   Metascore     20022 non-null  int8          \n",
      " 1   Platform      20022 non-null  object        \n",
      " 2   Release_date  20022 non-null  datetime64[ns]\n",
      " 3   Game_title    20022 non-null  object        \n",
      " 4   User_score    20022 non-null  float64       \n",
      "dtypes: datetime64[ns](1), float64(1), int8(1), object(2)\n",
      "memory usage: 645.4+ KB\n"
     ]
    }
   ],
   "source": [
    "data_clean.info()"
   ]
  },
  {
   "attachments": {},
   "cell_type": "markdown",
   "metadata": {},
   "source": [
    "Podemos ver a diferença expressiva que as alterações de data types teve na performance dos nossos dados. Antes da alteração dos dados, tinhamos um consumo de memória de 1.2+ MB, agora com as alterações, temos um uso de memória de 528+ KB."
   ]
  },
  {
   "cell_type": "code",
   "execution_count": 25,
   "metadata": {},
   "outputs": [
    {
     "data": {
      "text/html": [
       "<div>\n",
       "<style scoped>\n",
       "    .dataframe tbody tr th:only-of-type {\n",
       "        vertical-align: middle;\n",
       "    }\n",
       "\n",
       "    .dataframe tbody tr th {\n",
       "        vertical-align: top;\n",
       "    }\n",
       "\n",
       "    .dataframe thead th {\n",
       "        text-align: right;\n",
       "    }\n",
       "</style>\n",
       "<table border=\"1\" class=\"dataframe\">\n",
       "  <thead>\n",
       "    <tr style=\"text-align: right;\">\n",
       "      <th></th>\n",
       "      <th>Metascore</th>\n",
       "      <th>Platform</th>\n",
       "      <th>Release_date</th>\n",
       "      <th>Game_title</th>\n",
       "      <th>User_score</th>\n",
       "    </tr>\n",
       "  </thead>\n",
       "  <tbody>\n",
       "    <tr>\n",
       "      <th>0</th>\n",
       "      <td>91</td>\n",
       "      <td>PC</td>\n",
       "      <td>2020-08-18</td>\n",
       "      <td>Microsoft Flight Simulator</td>\n",
       "      <td>7.1</td>\n",
       "    </tr>\n",
       "    <tr>\n",
       "      <th>1</th>\n",
       "      <td>91</td>\n",
       "      <td>PC</td>\n",
       "      <td>2022-12-08</td>\n",
       "      <td>Chained Echoes</td>\n",
       "      <td>8.7</td>\n",
       "    </tr>\n",
       "    <tr>\n",
       "      <th>2</th>\n",
       "      <td>91</td>\n",
       "      <td>PlayStation 2</td>\n",
       "      <td>2005-11-07</td>\n",
       "      <td>Guitar Hero</td>\n",
       "      <td>8.5</td>\n",
       "    </tr>\n",
       "    <tr>\n",
       "      <th>3</th>\n",
       "      <td>91</td>\n",
       "      <td>PC</td>\n",
       "      <td>2008-11-13</td>\n",
       "      <td>World of Warcraft: Wrath of the Lich King</td>\n",
       "      <td>7.7</td>\n",
       "    </tr>\n",
       "    <tr>\n",
       "      <th>4</th>\n",
       "      <td>91</td>\n",
       "      <td>Wii</td>\n",
       "      <td>2010-10-26</td>\n",
       "      <td>Rock Band 3</td>\n",
       "      <td>6.8</td>\n",
       "    </tr>\n",
       "  </tbody>\n",
       "</table>\n",
       "</div>"
      ],
      "text/plain": [
       "   Metascore       Platform Release_date  \\\n",
       "0         91             PC   2020-08-18   \n",
       "1         91             PC   2022-12-08   \n",
       "2         91  PlayStation 2   2005-11-07   \n",
       "3         91             PC   2008-11-13   \n",
       "4         91            Wii   2010-10-26   \n",
       "\n",
       "                                  Game_title  User_score  \n",
       "0                 Microsoft Flight Simulator         7.1  \n",
       "1                             Chained Echoes         8.7  \n",
       "2                                Guitar Hero         8.5  \n",
       "3  World of Warcraft: Wrath of the Lich King         7.7  \n",
       "4                                Rock Band 3         6.8  "
      ]
     },
     "execution_count": 25,
     "metadata": {},
     "output_type": "execute_result"
    }
   ],
   "source": [
    "# Checando dados:\n",
    "data_clean.head(5)"
   ]
  },
  {
   "attachments": {},
   "cell_type": "markdown",
   "metadata": {},
   "source": [
    "## **Criando Nova Variável: Trimestre de Lançamento**"
   ]
  },
  {
   "attachments": {},
   "cell_type": "markdown",
   "metadata": {},
   "source": [
    "Como forma de expandir nossas possibilidades de análise, vamos inserir nos dados uma nova variável que informa qual o trimestre do ano em que o Jogo foi lançado."
   ]
  },
  {
   "cell_type": "code",
   "execution_count": 26,
   "metadata": {},
   "outputs": [],
   "source": [
    "def set_year_quarter(data: pd.DataFrame) -> pd.DataFrame:\n",
    "    '''Retorna uma nova variável que informa o trimestre do ano em que\n",
    "    o jogo foi lançado. Essa definição de trimestre se baseia no mês de lançamento\n",
    "    da coluna Release_date.\n",
    "    \n",
    "    PARÂMETROS:\n",
    "    \n",
    "        data > DataFrame para se aplicar a alteração.\n",
    "    '''\n",
    "    data['Release_quarter'] = data['Release_date'].apply(\n",
    "        lambda value:\n",
    "            'Q1' if value.month in [1, 2, 3] else\n",
    "            'Q2' if value.month in [4, 5, 6] else\n",
    "            'Q3' if value.month in [7, 8, 9] else\n",
    "            'Q4' if value.month in [10, 11, 12] else\n",
    "            value\n",
    "            )\n",
    "    \n",
    "    return data"
   ]
  },
  {
   "cell_type": "code",
   "execution_count": 27,
   "metadata": {},
   "outputs": [
    {
     "data": {
      "text/html": [
       "<div>\n",
       "<style scoped>\n",
       "    .dataframe tbody tr th:only-of-type {\n",
       "        vertical-align: middle;\n",
       "    }\n",
       "\n",
       "    .dataframe tbody tr th {\n",
       "        vertical-align: top;\n",
       "    }\n",
       "\n",
       "    .dataframe thead th {\n",
       "        text-align: right;\n",
       "    }\n",
       "</style>\n",
       "<table border=\"1\" class=\"dataframe\">\n",
       "  <thead>\n",
       "    <tr style=\"text-align: right;\">\n",
       "      <th></th>\n",
       "      <th>Metascore</th>\n",
       "      <th>Platform</th>\n",
       "      <th>Release_date</th>\n",
       "      <th>Game_title</th>\n",
       "      <th>User_score</th>\n",
       "      <th>Release_quarter</th>\n",
       "    </tr>\n",
       "  </thead>\n",
       "  <tbody>\n",
       "    <tr>\n",
       "      <th>13131</th>\n",
       "      <td>68</td>\n",
       "      <td>PlayStation 2</td>\n",
       "      <td>2007-10-01</td>\n",
       "      <td>NBA Live 08</td>\n",
       "      <td>6.7</td>\n",
       "      <td>Q4</td>\n",
       "    </tr>\n",
       "    <tr>\n",
       "      <th>6887</th>\n",
       "      <td>77</td>\n",
       "      <td>PlayStation Vita</td>\n",
       "      <td>2013-04-30</td>\n",
       "      <td>Soul Sacrifice</td>\n",
       "      <td>8.2</td>\n",
       "      <td>Q2</td>\n",
       "    </tr>\n",
       "    <tr>\n",
       "      <th>17913</th>\n",
       "      <td>55</td>\n",
       "      <td>Xbox 360</td>\n",
       "      <td>2008-09-02</td>\n",
       "      <td>Warhammer: Battle March</td>\n",
       "      <td>7.0</td>\n",
       "      <td>Q3</td>\n",
       "    </tr>\n",
       "    <tr>\n",
       "      <th>5660</th>\n",
       "      <td>79</td>\n",
       "      <td>PC</td>\n",
       "      <td>2018-02-08</td>\n",
       "      <td>Sid Meier's Civilization VI: Rise and Fall</td>\n",
       "      <td>6.4</td>\n",
       "      <td>Q1</td>\n",
       "    </tr>\n",
       "    <tr>\n",
       "      <th>18327</th>\n",
       "      <td>53</td>\n",
       "      <td>PlayStation 2</td>\n",
       "      <td>2006-08-29</td>\n",
       "      <td>World Championship Poker: Featuring Howard Led...</td>\n",
       "      <td>-1.0</td>\n",
       "      <td>Q3</td>\n",
       "    </tr>\n",
       "    <tr>\n",
       "      <th>6183</th>\n",
       "      <td>78</td>\n",
       "      <td>PlayStation 4</td>\n",
       "      <td>2022-07-22</td>\n",
       "      <td>Capcom Arcade 2nd Stadium</td>\n",
       "      <td>5.7</td>\n",
       "      <td>Q3</td>\n",
       "    </tr>\n",
       "    <tr>\n",
       "      <th>210</th>\n",
       "      <td>94</td>\n",
       "      <td>Xbox 360</td>\n",
       "      <td>2006-11-07</td>\n",
       "      <td>Gears of War</td>\n",
       "      <td>8.4</td>\n",
       "      <td>Q4</td>\n",
       "    </tr>\n",
       "    <tr>\n",
       "      <th>3427</th>\n",
       "      <td>82</td>\n",
       "      <td>PC</td>\n",
       "      <td>2012-02-14</td>\n",
       "      <td>Crusader Kings II</td>\n",
       "      <td>8.7</td>\n",
       "      <td>Q1</td>\n",
       "    </tr>\n",
       "    <tr>\n",
       "      <th>18678</th>\n",
       "      <td>50</td>\n",
       "      <td>3DS</td>\n",
       "      <td>2011-10-04</td>\n",
       "      <td>Spider-Man: Edge of Time</td>\n",
       "      <td>6.1</td>\n",
       "      <td>Q4</td>\n",
       "    </tr>\n",
       "    <tr>\n",
       "      <th>3411</th>\n",
       "      <td>82</td>\n",
       "      <td>PC</td>\n",
       "      <td>2022-03-28</td>\n",
       "      <td>Nightmare Reaper</td>\n",
       "      <td>7.8</td>\n",
       "      <td>Q1</td>\n",
       "    </tr>\n",
       "  </tbody>\n",
       "</table>\n",
       "</div>"
      ],
      "text/plain": [
       "       Metascore          Platform Release_date  \\\n",
       "13131         68     PlayStation 2   2007-10-01   \n",
       "6887          77  PlayStation Vita   2013-04-30   \n",
       "17913         55          Xbox 360   2008-09-02   \n",
       "5660          79                PC   2018-02-08   \n",
       "18327         53     PlayStation 2   2006-08-29   \n",
       "6183          78     PlayStation 4   2022-07-22   \n",
       "210           94          Xbox 360   2006-11-07   \n",
       "3427          82                PC   2012-02-14   \n",
       "18678         50               3DS   2011-10-04   \n",
       "3411          82                PC   2022-03-28   \n",
       "\n",
       "                                              Game_title  User_score  \\\n",
       "13131                                        NBA Live 08         6.7   \n",
       "6887                                      Soul Sacrifice         8.2   \n",
       "17913                            Warhammer: Battle March         7.0   \n",
       "5660          Sid Meier's Civilization VI: Rise and Fall         6.4   \n",
       "18327  World Championship Poker: Featuring Howard Led...        -1.0   \n",
       "6183                           Capcom Arcade 2nd Stadium         5.7   \n",
       "210                                         Gears of War         8.4   \n",
       "3427                                   Crusader Kings II         8.7   \n",
       "18678                           Spider-Man: Edge of Time         6.1   \n",
       "3411                                    Nightmare Reaper         7.8   \n",
       "\n",
       "      Release_quarter  \n",
       "13131              Q4  \n",
       "6887               Q2  \n",
       "17913              Q3  \n",
       "5660               Q1  \n",
       "18327              Q3  \n",
       "6183               Q3  \n",
       "210                Q4  \n",
       "3427               Q1  \n",
       "18678              Q4  \n",
       "3411               Q1  "
      ]
     },
     "execution_count": 27,
     "metadata": {},
     "output_type": "execute_result"
    }
   ],
   "source": [
    "# Aplicando função:\n",
    "data_clean = set_year_quarter(data_clean)\n",
    "\n",
    "# Checando resultado:\n",
    "data_clean.sample(10)"
   ]
  },
  {
   "attachments": {},
   "cell_type": "markdown",
   "metadata": {},
   "source": [
    "## **Criando Nova Variável: Subdivisões da Variável Release_date**"
   ]
  },
  {
   "attachments": {},
   "cell_type": "markdown",
   "metadata": {},
   "source": [
    "Com a nova variável de trimestre de lançamento criada, vamos retornar as atenções a variável **`Release_date`** e utilizá-la para criar três variáveis distintas que informam apenas o dia, mês e ano do lançamento.\n",
    "\n",
    "Essa divisão da variável **`Release_date`** será feita para facilitar a criação de plots na etapa de análises."
   ]
  },
  {
   "attachments": {},
   "cell_type": "markdown",
   "metadata": {},
   "source": [
    "- Criando variável **`Release_day`**:"
   ]
  },
  {
   "cell_type": "code",
   "execution_count": 28,
   "metadata": {},
   "outputs": [],
   "source": [
    "# Criando nova variável:\n",
    "data_clean['Release_day'] = data_clean['Release_date'].dt.day"
   ]
  },
  {
   "attachments": {},
   "cell_type": "markdown",
   "metadata": {},
   "source": [
    "- Criando variável **`Release_month`**:"
   ]
  },
  {
   "cell_type": "code",
   "execution_count": 29,
   "metadata": {},
   "outputs": [],
   "source": [
    "# Criando nova variável:\n",
    "data_clean['Release_month'] = data_clean['Release_date'].dt.month"
   ]
  },
  {
   "attachments": {},
   "cell_type": "markdown",
   "metadata": {},
   "source": [
    "- Criando variável **`Release_year`**:"
   ]
  },
  {
   "cell_type": "code",
   "execution_count": 30,
   "metadata": {},
   "outputs": [],
   "source": [
    "# Criando nova variável:\n",
    "data_clean['Release_year'] = data_clean['Release_date'].dt.year"
   ]
  },
  {
   "cell_type": "code",
   "execution_count": 31,
   "metadata": {},
   "outputs": [
    {
     "data": {
      "text/html": [
       "<div>\n",
       "<style scoped>\n",
       "    .dataframe tbody tr th:only-of-type {\n",
       "        vertical-align: middle;\n",
       "    }\n",
       "\n",
       "    .dataframe tbody tr th {\n",
       "        vertical-align: top;\n",
       "    }\n",
       "\n",
       "    .dataframe thead th {\n",
       "        text-align: right;\n",
       "    }\n",
       "</style>\n",
       "<table border=\"1\" class=\"dataframe\">\n",
       "  <thead>\n",
       "    <tr style=\"text-align: right;\">\n",
       "      <th></th>\n",
       "      <th>Metascore</th>\n",
       "      <th>Platform</th>\n",
       "      <th>Release_date</th>\n",
       "      <th>Game_title</th>\n",
       "      <th>User_score</th>\n",
       "      <th>Release_quarter</th>\n",
       "      <th>Release_day</th>\n",
       "      <th>Release_month</th>\n",
       "      <th>Release_year</th>\n",
       "    </tr>\n",
       "  </thead>\n",
       "  <tbody>\n",
       "    <tr>\n",
       "      <th>0</th>\n",
       "      <td>91</td>\n",
       "      <td>PC</td>\n",
       "      <td>2020-08-18</td>\n",
       "      <td>Microsoft Flight Simulator</td>\n",
       "      <td>7.1</td>\n",
       "      <td>Q3</td>\n",
       "      <td>18</td>\n",
       "      <td>8</td>\n",
       "      <td>2020</td>\n",
       "    </tr>\n",
       "    <tr>\n",
       "      <th>1</th>\n",
       "      <td>91</td>\n",
       "      <td>PC</td>\n",
       "      <td>2022-12-08</td>\n",
       "      <td>Chained Echoes</td>\n",
       "      <td>8.7</td>\n",
       "      <td>Q4</td>\n",
       "      <td>8</td>\n",
       "      <td>12</td>\n",
       "      <td>2022</td>\n",
       "    </tr>\n",
       "    <tr>\n",
       "      <th>2</th>\n",
       "      <td>91</td>\n",
       "      <td>PlayStation 2</td>\n",
       "      <td>2005-11-07</td>\n",
       "      <td>Guitar Hero</td>\n",
       "      <td>8.5</td>\n",
       "      <td>Q4</td>\n",
       "      <td>7</td>\n",
       "      <td>11</td>\n",
       "      <td>2005</td>\n",
       "    </tr>\n",
       "    <tr>\n",
       "      <th>3</th>\n",
       "      <td>91</td>\n",
       "      <td>PC</td>\n",
       "      <td>2008-11-13</td>\n",
       "      <td>World of Warcraft: Wrath of the Lich King</td>\n",
       "      <td>7.7</td>\n",
       "      <td>Q4</td>\n",
       "      <td>13</td>\n",
       "      <td>11</td>\n",
       "      <td>2008</td>\n",
       "    </tr>\n",
       "    <tr>\n",
       "      <th>4</th>\n",
       "      <td>91</td>\n",
       "      <td>Wii</td>\n",
       "      <td>2010-10-26</td>\n",
       "      <td>Rock Band 3</td>\n",
       "      <td>6.8</td>\n",
       "      <td>Q4</td>\n",
       "      <td>26</td>\n",
       "      <td>10</td>\n",
       "      <td>2010</td>\n",
       "    </tr>\n",
       "  </tbody>\n",
       "</table>\n",
       "</div>"
      ],
      "text/plain": [
       "   Metascore       Platform Release_date  \\\n",
       "0         91             PC   2020-08-18   \n",
       "1         91             PC   2022-12-08   \n",
       "2         91  PlayStation 2   2005-11-07   \n",
       "3         91             PC   2008-11-13   \n",
       "4         91            Wii   2010-10-26   \n",
       "\n",
       "                                  Game_title  User_score Release_quarter  \\\n",
       "0                 Microsoft Flight Simulator         7.1              Q3   \n",
       "1                             Chained Echoes         8.7              Q4   \n",
       "2                                Guitar Hero         8.5              Q4   \n",
       "3  World of Warcraft: Wrath of the Lich King         7.7              Q4   \n",
       "4                                Rock Band 3         6.8              Q4   \n",
       "\n",
       "   Release_day  Release_month  Release_year  \n",
       "0           18              8          2020  \n",
       "1            8             12          2022  \n",
       "2            7             11          2005  \n",
       "3           13             11          2008  \n",
       "4           26             10          2010  "
      ]
     },
     "execution_count": 31,
     "metadata": {},
     "output_type": "execute_result"
    }
   ],
   "source": [
    "# Checando dados:\n",
    "data_clean.head(5)"
   ]
  },
  {
   "attachments": {},
   "cell_type": "markdown",
   "metadata": {},
   "source": [
    "## **Criando Nova Variável: Metascore_class**"
   ]
  },
  {
   "attachments": {},
   "cell_type": "markdown",
   "metadata": {},
   "source": [
    "Essa variável tem como objetivo abrigar a classificação dos valores do Metascore. De acordo com um [FAQ do próprio site](https://www.metacritic.com/about-metascores), para cada range de notas temos uma classificação geral atribuída a ele como ilustrado na imagem abaixo retirada diretamente do FAQ:\n",
    "\n",
    "<img src=\"https://raw.githubusercontent.com/JoSEPHDev2022/Metacritc_Scores_Video_Games/main/images/metascore_classification.png\" width=700 height=350>"
   ]
  },
  {
   "attachments": {},
   "cell_type": "markdown",
   "metadata": {},
   "source": [
    "Com essa nova variável, teremos mais possibilidades de análise posteriores."
   ]
  },
  {
   "cell_type": "code",
   "execution_count": 32,
   "metadata": {},
   "outputs": [],
   "source": [
    "def set_metascore_class(data: pd.DataFrame) -> pd.DataFrame:\n",
    "    '''Retorna uma nova variável que consta a classificação do Jogo\n",
    "    com base em sua nota. Essas classificações são:\n",
    "    \n",
    "        - \"Universal Acclaim\" para games com notas entre 90 e 100;\n",
    "        - \"Generally Favorable Reviews\" para games com notas entre 75 e 89;\n",
    "        - \"Mixed or Average Reviews\" para games com notas entre 50 e 74;\n",
    "        - \"Generally Unfavorable Reviews\" para games com notas entre 20 e 49;\n",
    "        - \"Overwhelming Dislike\" para games com notas entre 0 e 19.\n",
    "\n",
    "        PARÂMETROS:\n",
    "        \n",
    "        data > DataFrame para se aplicar a alteração. \n",
    "    '''\n",
    "    data['Classification'] = data['Metascore'].apply(\n",
    "        lambda value:\n",
    "            'Universal Acclaim' if 90 <= value <= 100 else\n",
    "            'Generally Favorable Reviews' if 75 <= value <= 89 else\n",
    "            'Mixed or Average Reviews' if 50 <= value <= 74 else\n",
    "            'Generally Unfavorable Reviews' if 20 <= value <= 49 else\n",
    "            'Overwhelming Dislike'   \n",
    "            )\n",
    "    \n",
    "    return data"
   ]
  },
  {
   "cell_type": "code",
   "execution_count": 33,
   "metadata": {},
   "outputs": [],
   "source": [
    "# Aplicando função:\n",
    "data_clean = set_metascore_class(data_clean)"
   ]
  },
  {
   "cell_type": "code",
   "execution_count": 34,
   "metadata": {},
   "outputs": [
    {
     "data": {
      "text/html": [
       "<div>\n",
       "<style scoped>\n",
       "    .dataframe tbody tr th:only-of-type {\n",
       "        vertical-align: middle;\n",
       "    }\n",
       "\n",
       "    .dataframe tbody tr th {\n",
       "        vertical-align: top;\n",
       "    }\n",
       "\n",
       "    .dataframe thead th {\n",
       "        text-align: right;\n",
       "    }\n",
       "</style>\n",
       "<table border=\"1\" class=\"dataframe\">\n",
       "  <thead>\n",
       "    <tr style=\"text-align: right;\">\n",
       "      <th></th>\n",
       "      <th>Metascore</th>\n",
       "      <th>Platform</th>\n",
       "      <th>Release_date</th>\n",
       "      <th>Game_title</th>\n",
       "      <th>User_score</th>\n",
       "      <th>Release_quarter</th>\n",
       "      <th>Release_day</th>\n",
       "      <th>Release_month</th>\n",
       "      <th>Release_year</th>\n",
       "      <th>Classification</th>\n",
       "    </tr>\n",
       "  </thead>\n",
       "  <tbody>\n",
       "    <tr>\n",
       "      <th>13716</th>\n",
       "      <td>67</td>\n",
       "      <td>Switch</td>\n",
       "      <td>2020-02-18</td>\n",
       "      <td>Psikyo Shooting Stars Bravo</td>\n",
       "      <td>-1.0</td>\n",
       "      <td>Q1</td>\n",
       "      <td>18</td>\n",
       "      <td>2</td>\n",
       "      <td>2020</td>\n",
       "      <td>Mixed or Average Reviews</td>\n",
       "    </tr>\n",
       "    <tr>\n",
       "      <th>17102</th>\n",
       "      <td>58</td>\n",
       "      <td>DS</td>\n",
       "      <td>2007-10-30</td>\n",
       "      <td>DreamWorks Bee Movie Game</td>\n",
       "      <td>8.7</td>\n",
       "      <td>Q4</td>\n",
       "      <td>30</td>\n",
       "      <td>10</td>\n",
       "      <td>2007</td>\n",
       "      <td>Mixed or Average Reviews</td>\n",
       "    </tr>\n",
       "    <tr>\n",
       "      <th>8276</th>\n",
       "      <td>75</td>\n",
       "      <td>PlayStation 3</td>\n",
       "      <td>2011-10-25</td>\n",
       "      <td>The House of the Dead: Overkill - Extended Cut</td>\n",
       "      <td>7.6</td>\n",
       "      <td>Q4</td>\n",
       "      <td>25</td>\n",
       "      <td>10</td>\n",
       "      <td>2011</td>\n",
       "      <td>Generally Favorable Reviews</td>\n",
       "    </tr>\n",
       "    <tr>\n",
       "      <th>9688</th>\n",
       "      <td>73</td>\n",
       "      <td>PlayStation 2</td>\n",
       "      <td>2006-09-26</td>\n",
       "      <td>Dance Dance Revolution SuperNOVA</td>\n",
       "      <td>8.0</td>\n",
       "      <td>Q3</td>\n",
       "      <td>26</td>\n",
       "      <td>9</td>\n",
       "      <td>2006</td>\n",
       "      <td>Mixed or Average Reviews</td>\n",
       "    </tr>\n",
       "    <tr>\n",
       "      <th>19123</th>\n",
       "      <td>47</td>\n",
       "      <td>Xbox 360</td>\n",
       "      <td>2010-11-04</td>\n",
       "      <td>Sonic Free Riders</td>\n",
       "      <td>2.5</td>\n",
       "      <td>Q4</td>\n",
       "      <td>4</td>\n",
       "      <td>11</td>\n",
       "      <td>2010</td>\n",
       "      <td>Generally Unfavorable Reviews</td>\n",
       "    </tr>\n",
       "    <tr>\n",
       "      <th>2309</th>\n",
       "      <td>84</td>\n",
       "      <td>PlayStation 3</td>\n",
       "      <td>2013-09-24</td>\n",
       "      <td>Lone Survivor: The Director's Cut</td>\n",
       "      <td>7.8</td>\n",
       "      <td>Q3</td>\n",
       "      <td>24</td>\n",
       "      <td>9</td>\n",
       "      <td>2013</td>\n",
       "      <td>Generally Favorable Reviews</td>\n",
       "    </tr>\n",
       "    <tr>\n",
       "      <th>8980</th>\n",
       "      <td>74</td>\n",
       "      <td>Switch</td>\n",
       "      <td>2017-11-21</td>\n",
       "      <td>SUPERBEAT: XONiC</td>\n",
       "      <td>7.5</td>\n",
       "      <td>Q4</td>\n",
       "      <td>21</td>\n",
       "      <td>11</td>\n",
       "      <td>2017</td>\n",
       "      <td>Mixed or Average Reviews</td>\n",
       "    </tr>\n",
       "    <tr>\n",
       "      <th>15145</th>\n",
       "      <td>64</td>\n",
       "      <td>PlayStation 3</td>\n",
       "      <td>2013-08-27</td>\n",
       "      <td>Killer Is Dead</td>\n",
       "      <td>7.8</td>\n",
       "      <td>Q3</td>\n",
       "      <td>27</td>\n",
       "      <td>8</td>\n",
       "      <td>2013</td>\n",
       "      <td>Mixed or Average Reviews</td>\n",
       "    </tr>\n",
       "    <tr>\n",
       "      <th>2243</th>\n",
       "      <td>84</td>\n",
       "      <td>Xbox 360</td>\n",
       "      <td>2011-02-09</td>\n",
       "      <td>Stacking</td>\n",
       "      <td>8.1</td>\n",
       "      <td>Q1</td>\n",
       "      <td>9</td>\n",
       "      <td>2</td>\n",
       "      <td>2011</td>\n",
       "      <td>Generally Favorable Reviews</td>\n",
       "    </tr>\n",
       "    <tr>\n",
       "      <th>16814</th>\n",
       "      <td>59</td>\n",
       "      <td>PlayStation 3</td>\n",
       "      <td>2010-01-19</td>\n",
       "      <td>Dark Void</td>\n",
       "      <td>5.9</td>\n",
       "      <td>Q1</td>\n",
       "      <td>19</td>\n",
       "      <td>1</td>\n",
       "      <td>2010</td>\n",
       "      <td>Mixed or Average Reviews</td>\n",
       "    </tr>\n",
       "  </tbody>\n",
       "</table>\n",
       "</div>"
      ],
      "text/plain": [
       "       Metascore       Platform Release_date  \\\n",
       "13716         67         Switch   2020-02-18   \n",
       "17102         58             DS   2007-10-30   \n",
       "8276          75  PlayStation 3   2011-10-25   \n",
       "9688          73  PlayStation 2   2006-09-26   \n",
       "19123         47       Xbox 360   2010-11-04   \n",
       "2309          84  PlayStation 3   2013-09-24   \n",
       "8980          74         Switch   2017-11-21   \n",
       "15145         64  PlayStation 3   2013-08-27   \n",
       "2243          84       Xbox 360   2011-02-09   \n",
       "16814         59  PlayStation 3   2010-01-19   \n",
       "\n",
       "                                           Game_title  User_score  \\\n",
       "13716                     Psikyo Shooting Stars Bravo        -1.0   \n",
       "17102                       DreamWorks Bee Movie Game         8.7   \n",
       "8276   The House of the Dead: Overkill - Extended Cut         7.6   \n",
       "9688                 Dance Dance Revolution SuperNOVA         8.0   \n",
       "19123                               Sonic Free Riders         2.5   \n",
       "2309                Lone Survivor: The Director's Cut         7.8   \n",
       "8980                                 SUPERBEAT: XONiC         7.5   \n",
       "15145                                  Killer Is Dead         7.8   \n",
       "2243                                         Stacking         8.1   \n",
       "16814                                       Dark Void         5.9   \n",
       "\n",
       "      Release_quarter  Release_day  Release_month  Release_year  \\\n",
       "13716              Q1           18              2          2020   \n",
       "17102              Q4           30             10          2007   \n",
       "8276               Q4           25             10          2011   \n",
       "9688               Q3           26              9          2006   \n",
       "19123              Q4            4             11          2010   \n",
       "2309               Q3           24              9          2013   \n",
       "8980               Q4           21             11          2017   \n",
       "15145              Q3           27              8          2013   \n",
       "2243               Q1            9              2          2011   \n",
       "16814              Q1           19              1          2010   \n",
       "\n",
       "                      Classification  \n",
       "13716       Mixed or Average Reviews  \n",
       "17102       Mixed or Average Reviews  \n",
       "8276     Generally Favorable Reviews  \n",
       "9688        Mixed or Average Reviews  \n",
       "19123  Generally Unfavorable Reviews  \n",
       "2309     Generally Favorable Reviews  \n",
       "8980        Mixed or Average Reviews  \n",
       "15145       Mixed or Average Reviews  \n",
       "2243     Generally Favorable Reviews  \n",
       "16814       Mixed or Average Reviews  "
      ]
     },
     "execution_count": 34,
     "metadata": {},
     "output_type": "execute_result"
    }
   ],
   "source": [
    "# Visualizando resultados:\n",
    "data_clean.sample(10)"
   ]
  },
  {
   "attachments": {},
   "cell_type": "markdown",
   "metadata": {},
   "source": [
    "## **Reorganizando Sequência de Variáveis**"
   ]
  },
  {
   "attachments": {},
   "cell_type": "markdown",
   "metadata": {},
   "source": [
    "Com todas as variáveis com data types apropriados e com a inserção das novas variáveis, basta organizar os dados para uma visualização melhor da tabela:"
   ]
  },
  {
   "cell_type": "code",
   "execution_count": 35,
   "metadata": {},
   "outputs": [],
   "source": [
    "# Reorganizando aparição das colunas no DataFrame:\n",
    "data_clean = data_clean.loc[:, \n",
    "                            ['Game_title', 'Platform', 'Release_date', 'Release_year', \n",
    "                             'Release_month', 'Release_day', 'Release_quarter', 'User_score', \n",
    "                             'Metascore', 'Classification']]"
   ]
  },
  {
   "cell_type": "code",
   "execution_count": 36,
   "metadata": {},
   "outputs": [
    {
     "data": {
      "text/html": [
       "<div>\n",
       "<style scoped>\n",
       "    .dataframe tbody tr th:only-of-type {\n",
       "        vertical-align: middle;\n",
       "    }\n",
       "\n",
       "    .dataframe tbody tr th {\n",
       "        vertical-align: top;\n",
       "    }\n",
       "\n",
       "    .dataframe thead th {\n",
       "        text-align: right;\n",
       "    }\n",
       "</style>\n",
       "<table border=\"1\" class=\"dataframe\">\n",
       "  <thead>\n",
       "    <tr style=\"text-align: right;\">\n",
       "      <th></th>\n",
       "      <th>Game_title</th>\n",
       "      <th>Platform</th>\n",
       "      <th>Release_date</th>\n",
       "      <th>Release_year</th>\n",
       "      <th>Release_month</th>\n",
       "      <th>Release_day</th>\n",
       "      <th>Release_quarter</th>\n",
       "      <th>User_score</th>\n",
       "      <th>Metascore</th>\n",
       "      <th>Classification</th>\n",
       "    </tr>\n",
       "  </thead>\n",
       "  <tbody>\n",
       "    <tr>\n",
       "      <th>0</th>\n",
       "      <td>Microsoft Flight Simulator</td>\n",
       "      <td>PC</td>\n",
       "      <td>2020-08-18</td>\n",
       "      <td>2020</td>\n",
       "      <td>8</td>\n",
       "      <td>18</td>\n",
       "      <td>Q3</td>\n",
       "      <td>7.1</td>\n",
       "      <td>91</td>\n",
       "      <td>Universal Acclaim</td>\n",
       "    </tr>\n",
       "    <tr>\n",
       "      <th>1</th>\n",
       "      <td>Chained Echoes</td>\n",
       "      <td>PC</td>\n",
       "      <td>2022-12-08</td>\n",
       "      <td>2022</td>\n",
       "      <td>12</td>\n",
       "      <td>8</td>\n",
       "      <td>Q4</td>\n",
       "      <td>8.7</td>\n",
       "      <td>91</td>\n",
       "      <td>Universal Acclaim</td>\n",
       "    </tr>\n",
       "    <tr>\n",
       "      <th>2</th>\n",
       "      <td>Guitar Hero</td>\n",
       "      <td>PlayStation 2</td>\n",
       "      <td>2005-11-07</td>\n",
       "      <td>2005</td>\n",
       "      <td>11</td>\n",
       "      <td>7</td>\n",
       "      <td>Q4</td>\n",
       "      <td>8.5</td>\n",
       "      <td>91</td>\n",
       "      <td>Universal Acclaim</td>\n",
       "    </tr>\n",
       "    <tr>\n",
       "      <th>3</th>\n",
       "      <td>World of Warcraft: Wrath of the Lich King</td>\n",
       "      <td>PC</td>\n",
       "      <td>2008-11-13</td>\n",
       "      <td>2008</td>\n",
       "      <td>11</td>\n",
       "      <td>13</td>\n",
       "      <td>Q4</td>\n",
       "      <td>7.7</td>\n",
       "      <td>91</td>\n",
       "      <td>Universal Acclaim</td>\n",
       "    </tr>\n",
       "    <tr>\n",
       "      <th>4</th>\n",
       "      <td>Rock Band 3</td>\n",
       "      <td>Wii</td>\n",
       "      <td>2010-10-26</td>\n",
       "      <td>2010</td>\n",
       "      <td>10</td>\n",
       "      <td>26</td>\n",
       "      <td>Q4</td>\n",
       "      <td>6.8</td>\n",
       "      <td>91</td>\n",
       "      <td>Universal Acclaim</td>\n",
       "    </tr>\n",
       "    <tr>\n",
       "      <th>5</th>\n",
       "      <td>Metroid Prime Trilogy</td>\n",
       "      <td>Wii</td>\n",
       "      <td>2009-08-24</td>\n",
       "      <td>2009</td>\n",
       "      <td>8</td>\n",
       "      <td>24</td>\n",
       "      <td>Q3</td>\n",
       "      <td>9.0</td>\n",
       "      <td>91</td>\n",
       "      <td>Universal Acclaim</td>\n",
       "    </tr>\n",
       "    <tr>\n",
       "      <th>6</th>\n",
       "      <td>Overwatch</td>\n",
       "      <td>PC</td>\n",
       "      <td>2016-05-23</td>\n",
       "      <td>2016</td>\n",
       "      <td>5</td>\n",
       "      <td>23</td>\n",
       "      <td>Q2</td>\n",
       "      <td>6.4</td>\n",
       "      <td>91</td>\n",
       "      <td>Universal Acclaim</td>\n",
       "    </tr>\n",
       "    <tr>\n",
       "      <th>7</th>\n",
       "      <td>F1 Challenge '99-'02</td>\n",
       "      <td>PC</td>\n",
       "      <td>2003-06-24</td>\n",
       "      <td>2003</td>\n",
       "      <td>6</td>\n",
       "      <td>24</td>\n",
       "      <td>Q2</td>\n",
       "      <td>7.7</td>\n",
       "      <td>91</td>\n",
       "      <td>Universal Acclaim</td>\n",
       "    </tr>\n",
       "    <tr>\n",
       "      <th>8</th>\n",
       "      <td>Tony Hawk's Pro Skater 4</td>\n",
       "      <td>GameCube</td>\n",
       "      <td>2002-10-23</td>\n",
       "      <td>2002</td>\n",
       "      <td>10</td>\n",
       "      <td>23</td>\n",
       "      <td>Q4</td>\n",
       "      <td>8.2</td>\n",
       "      <td>91</td>\n",
       "      <td>Universal Acclaim</td>\n",
       "    </tr>\n",
       "    <tr>\n",
       "      <th>9</th>\n",
       "      <td>Madden NFL 2001</td>\n",
       "      <td>PlayStation 2</td>\n",
       "      <td>2000-10-23</td>\n",
       "      <td>2000</td>\n",
       "      <td>10</td>\n",
       "      <td>23</td>\n",
       "      <td>Q4</td>\n",
       "      <td>7.5</td>\n",
       "      <td>91</td>\n",
       "      <td>Universal Acclaim</td>\n",
       "    </tr>\n",
       "  </tbody>\n",
       "</table>\n",
       "</div>"
      ],
      "text/plain": [
       "                                  Game_title       Platform Release_date  \\\n",
       "0                 Microsoft Flight Simulator             PC   2020-08-18   \n",
       "1                             Chained Echoes             PC   2022-12-08   \n",
       "2                                Guitar Hero  PlayStation 2   2005-11-07   \n",
       "3  World of Warcraft: Wrath of the Lich King             PC   2008-11-13   \n",
       "4                                Rock Band 3            Wii   2010-10-26   \n",
       "5                      Metroid Prime Trilogy            Wii   2009-08-24   \n",
       "6                                  Overwatch             PC   2016-05-23   \n",
       "7                       F1 Challenge '99-'02             PC   2003-06-24   \n",
       "8                   Tony Hawk's Pro Skater 4       GameCube   2002-10-23   \n",
       "9                            Madden NFL 2001  PlayStation 2   2000-10-23   \n",
       "\n",
       "   Release_year  Release_month  Release_day Release_quarter  User_score  \\\n",
       "0          2020              8           18              Q3         7.1   \n",
       "1          2022             12            8              Q4         8.7   \n",
       "2          2005             11            7              Q4         8.5   \n",
       "3          2008             11           13              Q4         7.7   \n",
       "4          2010             10           26              Q4         6.8   \n",
       "5          2009              8           24              Q3         9.0   \n",
       "6          2016              5           23              Q2         6.4   \n",
       "7          2003              6           24              Q2         7.7   \n",
       "8          2002             10           23              Q4         8.2   \n",
       "9          2000             10           23              Q4         7.5   \n",
       "\n",
       "   Metascore     Classification  \n",
       "0         91  Universal Acclaim  \n",
       "1         91  Universal Acclaim  \n",
       "2         91  Universal Acclaim  \n",
       "3         91  Universal Acclaim  \n",
       "4         91  Universal Acclaim  \n",
       "5         91  Universal Acclaim  \n",
       "6         91  Universal Acclaim  \n",
       "7         91  Universal Acclaim  \n",
       "8         91  Universal Acclaim  \n",
       "9         91  Universal Acclaim  "
      ]
     },
     "execution_count": 36,
     "metadata": {},
     "output_type": "execute_result"
    }
   ],
   "source": [
    "# Verificando forma final dos dados:\n",
    "data_clean.head(10)"
   ]
  },
  {
   "attachments": {},
   "cell_type": "markdown",
   "metadata": {},
   "source": [
    "# <font color='gold'>**_Análise Exploratória de Dados: Distribuição dos Dados_**</font>"
   ]
  },
  {
   "attachments": {},
   "cell_type": "markdown",
   "metadata": {},
   "source": [
    "Com nossos dados organizados e tratados, vamos utilizar de Histogramas para visualizar a distribuição dos data points nas variáveis.\n",
    "\n",
    "Como um passo primário no entanto, iremos utilziar o método describe novamente, para checar uma descrição estatística dos dados organizados e das novas variáveis adicionadas na etapa anterior."
   ]
  },
  {
   "attachments": {},
   "cell_type": "markdown",
   "metadata": {},
   "source": [
    "## **Descrição Estatística dos Dados Tratados**"
   ]
  },
  {
   "cell_type": "code",
   "execution_count": 37,
   "metadata": {},
   "outputs": [
    {
     "data": {
      "text/html": [
       "<div>\n",
       "<style scoped>\n",
       "    .dataframe tbody tr th:only-of-type {\n",
       "        vertical-align: middle;\n",
       "    }\n",
       "\n",
       "    .dataframe tbody tr th {\n",
       "        vertical-align: top;\n",
       "    }\n",
       "\n",
       "    .dataframe thead th {\n",
       "        text-align: right;\n",
       "    }\n",
       "</style>\n",
       "<table border=\"1\" class=\"dataframe\">\n",
       "  <thead>\n",
       "    <tr style=\"text-align: right;\">\n",
       "      <th></th>\n",
       "      <th>Release_year</th>\n",
       "      <th>Release_month</th>\n",
       "      <th>Release_day</th>\n",
       "      <th>User_score</th>\n",
       "      <th>Metascore</th>\n",
       "    </tr>\n",
       "  </thead>\n",
       "  <tbody>\n",
       "    <tr>\n",
       "      <th>count</th>\n",
       "      <td>20022.000000</td>\n",
       "      <td>20022.000000</td>\n",
       "      <td>20022.000000</td>\n",
       "      <td>20022.000000</td>\n",
       "      <td>20022.000000</td>\n",
       "    </tr>\n",
       "    <tr>\n",
       "      <th>mean</th>\n",
       "      <td>2011.795475</td>\n",
       "      <td>7.000499</td>\n",
       "      <td>16.531415</td>\n",
       "      <td>6.412022</td>\n",
       "      <td>70.758566</td>\n",
       "    </tr>\n",
       "    <tr>\n",
       "      <th>std</th>\n",
       "      <td>6.493958</td>\n",
       "      <td>3.346318</td>\n",
       "      <td>8.630879</td>\n",
       "      <td>2.405527</td>\n",
       "      <td>12.165042</td>\n",
       "    </tr>\n",
       "    <tr>\n",
       "      <th>min</th>\n",
       "      <td>1995.000000</td>\n",
       "      <td>1.000000</td>\n",
       "      <td>1.000000</td>\n",
       "      <td>-1.000000</td>\n",
       "      <td>11.000000</td>\n",
       "    </tr>\n",
       "    <tr>\n",
       "      <th>25%</th>\n",
       "      <td>2006.000000</td>\n",
       "      <td>4.000000</td>\n",
       "      <td>9.000000</td>\n",
       "      <td>6.000000</td>\n",
       "      <td>64.000000</td>\n",
       "    </tr>\n",
       "    <tr>\n",
       "      <th>50%</th>\n",
       "      <td>2012.000000</td>\n",
       "      <td>8.000000</td>\n",
       "      <td>17.000000</td>\n",
       "      <td>7.100000</td>\n",
       "      <td>72.000000</td>\n",
       "    </tr>\n",
       "    <tr>\n",
       "      <th>75%</th>\n",
       "      <td>2018.000000</td>\n",
       "      <td>10.000000</td>\n",
       "      <td>24.000000</td>\n",
       "      <td>7.900000</td>\n",
       "      <td>80.000000</td>\n",
       "    </tr>\n",
       "    <tr>\n",
       "      <th>max</th>\n",
       "      <td>2023.000000</td>\n",
       "      <td>12.000000</td>\n",
       "      <td>31.000000</td>\n",
       "      <td>9.700000</td>\n",
       "      <td>99.000000</td>\n",
       "    </tr>\n",
       "  </tbody>\n",
       "</table>\n",
       "</div>"
      ],
      "text/plain": [
       "       Release_year  Release_month   Release_day    User_score     Metascore\n",
       "count  20022.000000   20022.000000  20022.000000  20022.000000  20022.000000\n",
       "mean    2011.795475       7.000499     16.531415      6.412022     70.758566\n",
       "std        6.493958       3.346318      8.630879      2.405527     12.165042\n",
       "min     1995.000000       1.000000      1.000000     -1.000000     11.000000\n",
       "25%     2006.000000       4.000000      9.000000      6.000000     64.000000\n",
       "50%     2012.000000       8.000000     17.000000      7.100000     72.000000\n",
       "75%     2018.000000      10.000000     24.000000      7.900000     80.000000\n",
       "max     2023.000000      12.000000     31.000000      9.700000     99.000000"
      ]
     },
     "execution_count": 37,
     "metadata": {},
     "output_type": "execute_result"
    }
   ],
   "source": [
    "# Utilizando método describe para analisar variáveis numéricas:\n",
    "data_clean.describe()"
   ]
  },
  {
   "attachments": {},
   "cell_type": "markdown",
   "metadata": {},
   "source": [
    "Com a tabela acima, podemos realizar novas análises interessantes sobre nossos dados:\n",
    "\n",
    "Variável **`Release_year`**\n",
    "\n",
    "- Quartis e Percentis:\n",
    "\n",
    "    - Até **25% dos jogos** presentes no Dataset foram **lançados em 2006 ou antes**;\n",
    "\n",
    "    - Até **50% dos jogos** presentes no Dataset foram **lançados em 2012 ou antes**;\n",
    "    - Até **75% dos jogos** presentes no Dataset foram **lançados em 2018 ou antes**;\n",
    "\n",
    "- Min e Max:\n",
    "    - O jogo mais antigo presente no Dataset é de 1995;\n",
    "\n",
    "    - O jogo mais recente presente no Dataset é de 2023;\n",
    "\n",
    "Variável **`User_score`**\n",
    "\n",
    "- Quartis e Percentis:\n",
    "    - Até **25% dos usuários** forneceram notas iguais a ou menores que **6**;\n",
    "\n",
    "    - Até **50% dos usuários** forneceram notas iguais a ou menores que **7.1**;\n",
    "    - Até **75% dos usuários** forneceram notas iguais a ou menores que **7.9**;\n",
    "    \n",
    "- Min e Max:\n",
    "    - A maior nota fornecida por usuários foi de 9.7;\n",
    "\n",
    "    - A menor nota fornecida por usuários foi de 0.\n",
    "\n",
    "- Média e Desvio Padrão:\n",
    "    - A média geral das notas é aproximadamente 6.4;\n",
    "    \n",
    "    - Tendo desvio padrão de aroximandamente 2.4 pontos para mais ou para menos da média."
   ]
  },
  {
   "cell_type": "code",
   "execution_count": 38,
   "metadata": {},
   "outputs": [
    {
     "data": {
      "text/html": [
       "<div>\n",
       "<style scoped>\n",
       "    .dataframe tbody tr th:only-of-type {\n",
       "        vertical-align: middle;\n",
       "    }\n",
       "\n",
       "    .dataframe tbody tr th {\n",
       "        vertical-align: top;\n",
       "    }\n",
       "\n",
       "    .dataframe thead th {\n",
       "        text-align: right;\n",
       "    }\n",
       "</style>\n",
       "<table border=\"1\" class=\"dataframe\">\n",
       "  <thead>\n",
       "    <tr style=\"text-align: right;\">\n",
       "      <th></th>\n",
       "      <th>Game_title</th>\n",
       "      <th>Platform</th>\n",
       "      <th>Release_date</th>\n",
       "      <th>Release_quarter</th>\n",
       "      <th>Classification</th>\n",
       "    </tr>\n",
       "  </thead>\n",
       "  <tbody>\n",
       "    <tr>\n",
       "      <th>count</th>\n",
       "      <td>20022</td>\n",
       "      <td>20022</td>\n",
       "      <td>20022</td>\n",
       "      <td>20022</td>\n",
       "      <td>20022</td>\n",
       "    </tr>\n",
       "    <tr>\n",
       "      <th>unique</th>\n",
       "      <td>12926</td>\n",
       "      <td>22</td>\n",
       "      <td>4794</td>\n",
       "      <td>4</td>\n",
       "      <td>5</td>\n",
       "    </tr>\n",
       "    <tr>\n",
       "      <th>top</th>\n",
       "      <td>Madden NFL 07</td>\n",
       "      <td>PC</td>\n",
       "      <td>2006-11-14 00:00:00</td>\n",
       "      <td>Q4</td>\n",
       "      <td>Mixed or Average Reviews</td>\n",
       "    </tr>\n",
       "    <tr>\n",
       "      <th>freq</th>\n",
       "      <td>9</td>\n",
       "      <td>5276</td>\n",
       "      <td>48</td>\n",
       "      <td>6253</td>\n",
       "      <td>10222</td>\n",
       "    </tr>\n",
       "    <tr>\n",
       "      <th>first</th>\n",
       "      <td>NaN</td>\n",
       "      <td>NaN</td>\n",
       "      <td>1995-04-30 00:00:00</td>\n",
       "      <td>NaN</td>\n",
       "      <td>NaN</td>\n",
       "    </tr>\n",
       "    <tr>\n",
       "      <th>last</th>\n",
       "      <td>NaN</td>\n",
       "      <td>NaN</td>\n",
       "      <td>2023-02-02 00:00:00</td>\n",
       "      <td>NaN</td>\n",
       "      <td>NaN</td>\n",
       "    </tr>\n",
       "  </tbody>\n",
       "</table>\n",
       "</div>"
      ],
      "text/plain": [
       "           Game_title Platform         Release_date Release_quarter  \\\n",
       "count           20022    20022                20022           20022   \n",
       "unique          12926       22                 4794               4   \n",
       "top     Madden NFL 07       PC  2006-11-14 00:00:00              Q4   \n",
       "freq                9     5276                   48            6253   \n",
       "first             NaN      NaN  1995-04-30 00:00:00             NaN   \n",
       "last              NaN      NaN  2023-02-02 00:00:00             NaN   \n",
       "\n",
       "                  Classification  \n",
       "count                      20022  \n",
       "unique                         5  \n",
       "top     Mixed or Average Reviews  \n",
       "freq                       10222  \n",
       "first                        NaN  \n",
       "last                         NaN  "
      ]
     },
     "execution_count": 38,
     "metadata": {},
     "output_type": "execute_result"
    }
   ],
   "source": [
    "# Utilizando método describe para analisar variáveis categóricas:\n",
    "data_clean.describe(exclude='number')"
   ]
  },
  {
   "attachments": {},
   "cell_type": "markdown",
   "metadata": {},
   "source": [
    "Acerca das variáveis categóricas, temos as seguintes informações:\n",
    "\n",
    "Variável **`Game_title`**\n",
    "\n",
    "- O jogo mais com mais aparições no Dataset é **Madden NFL 07**, constando com 9 aparições nos dados.\n",
    "\n",
    "\n",
    "Variável **`Release_date`**\n",
    "\n",
    "- A data em que mais jogos foram lançados no mesmo dia, foi em **14 de Novembro de 2006**, data que consta como de lançamento 48 vezes nos dados;\n",
    "    \n",
    "- A data mais antiga de lançamento de jogos presente nos dados é o dia **30 de Abril de 1995**;\n",
    "- Já a data mais recente de lançamento, é o dia **02 de Fevereiro de 2023**.\n",
    "\n",
    "Variável **`Release_quarter`**\n",
    "\n",
    "- O período do ano com mais lançamentos de jogos é o **Quarto Trimestre**, constando como período de lançamento para 6.253 jogos no registro (cerca de 31% do total);\n",
    "\n",
    "Variável **`Classification`**\n",
    "\n",
    "- A classificação mais atribuída aos jogos do Dataset é **Mixed or Average Reviews**, que engloba 10.222 registros dos dados (cerca de 51% do total);"
   ]
  },
  {
   "attachments": {},
   "cell_type": "markdown",
   "metadata": {},
   "source": [
    "## **Distribuição dos Dados Tratados**"
   ]
  },
  {
   "attachments": {},
   "cell_type": "markdown",
   "metadata": {},
   "source": [
    "Um ponto importante de uma análise estatística descritiva, é buscar compreender as seguintes características dos dados:\n",
    "\n",
    "**Centralidade**\n",
    "\n",
    "- O centro da distribuição dos data points. Identificar onde esses dados tendem a estarem agrupados.\n",
    "\n",
    "**Amplitude**\n",
    "\n",
    "- O intervalo de valores presentes na distribuição entre o valor máximo e mínimo.\n",
    "\n",
    "**Simetria**\n",
    "\n",
    "- Identificar a distribuição dos dados pela variável analisada, buscando avaliar valores discrepantes, muito altos ou baixos, a esqueda ou a direita."
   ]
  },
  {
   "attachments": {},
   "cell_type": "markdown",
   "metadata": {},
   "source": [
    "Para podermos visualizar essas características, a melhor opção é o uso de um Histograma, e para isso, iremos delimitar uma função de criação para um:"
   ]
  },
  {
   "cell_type": "code",
   "execution_count": 39,
   "metadata": {},
   "outputs": [],
   "source": [
    "def histogram_plot(data: pd.DataFrame, column: pd.Series, bin_width: float, title: str):\n",
    "    '''Retorna um Histograma detalhado sobre os dados fornecidos.\n",
    "    \n",
    "    PARÂMETROS:\n",
    "\n",
    "        - data > Um DataFrame do Pandas contendo os dados;\n",
    "        - column > Uma Series do Pandas contendo os dados desejados para plotagem;\n",
    "        - bin_width: > Número float para a dimensão das barras do histograma;\n",
    "        - title > O título desejado para o plot.\n",
    "    '''\n",
    "    fig, ax1 = plt.subplots(figsize=(12,6))\n",
    "\n",
    "    ax2 = sns.histplot(data=data, \n",
    "                       x=column, \n",
    "                       kde=True,\n",
    "                       label='Frequência', \n",
    "                       binwidth=bin_width,\n",
    "                       edgecolor='black', \n",
    "                       line_kws={'linestyle': 'dashdot'},\n",
    "                       color='#151bbf')\n",
    "    \n",
    "    ax2.set_title(title, fontdict={'size': 15, \n",
    "                                   'weight': 'bold'})\n",
    "    \n",
    "    ax2.set_ylabel('Num. Registros', fontdict={'size': 12,\n",
    "                                               'family': 'monospace'})\n",
    "\n",
    "    ax2.get_yaxis().set_major_formatter(plt.FuncFormatter(lambda number, char: format(int(number), ',')))\n",
    "\n",
    "    ax2.set_xlabel('')"
   ]
  },
  {
   "attachments": {},
   "cell_type": "markdown",
   "metadata": {},
   "source": [
    "### **Variável Release_year**"
   ]
  },
  {
   "cell_type": "code",
   "execution_count": 40,
   "metadata": {},
   "outputs": [
    {
     "data": {
      "image/png": "[encoded data removed]",
      "text/plain": [
       "<Figure size 1200x600 with 1 Axes>"
      ]
     },
     "metadata": {},
     "output_type": "display_data"
    }
   ],
   "source": [
    "# Histograma:\n",
    "histogram_plot(data_clean, \n",
    "               'Release_year', \n",
    "               1, \n",
    "               'Distribuição de Lançamento de Jogos por Ano')\n",
    "\n",
    "# Anotando lançamento PS2:\n",
    "plt.annotate('Lançamento PS2', \n",
    "             fontsize=9, \n",
    "             fontfamily='monospace',\n",
    "             xy=(2000.1, 370), \n",
    "             xytext=(1994.5,400), \n",
    "             arrowprops={'arrowstyle':'->', 'color':'black'},\n",
    "             bbox={'boxstyle': 'round', 'fc': '0.65', 'color': '#0bc3d4'})\n",
    "\n",
    "# Anotando lançamento X-Box:\n",
    "plt.annotate('Lançamento X-Box', \n",
    "             fontsize=9, \n",
    "             fontfamily='monospace',\n",
    "             xy=(2001.1, 555), \n",
    "             xytext=(1994.5,570), \n",
    "             arrowprops={'arrowstyle':'->', 'color':'black'},\n",
    "             bbox={'boxstyle': 'round', 'fc': '0.65', 'color': '#0bd422'})\n",
    "\n",
    "plt.show()"
   ]
  },
  {
   "attachments": {},
   "cell_type": "markdown",
   "metadata": {},
   "source": [
    "**Centralidade**\n",
    "\n",
    "- Em relação aos anos de lançamento dos jogos, temos uma tendência central entre 2015 e 2020, onde as maiores quantidades de data points se acumulam.\n",
    "\n",
    "**Amplitude**"
   ]
  },
  {
   "cell_type": "code",
   "execution_count": 41,
   "metadata": {},
   "outputs": [
    {
     "name": "stdout",
     "output_type": "stream",
     "text": [
      "Perído de 28 anos.\n"
     ]
    }
   ],
   "source": [
    "ampl = data_clean['Release_year'].max() - data_clean['Release_year'].min()\n",
    "\n",
    "print(f'Perído de {ampl} anos.')"
   ]
  },
  {
   "attachments": {},
   "cell_type": "markdown",
   "metadata": {},
   "source": [
    "**Simetria**\n",
    "\n",
    "- Temos um histograma em formato de **Platô (achatado) distorcido levemente a esquerda**, onde temos um número não muito variante de frequências para cada ponto da variável analisada.\n",
    "\n",
    "Nesse caso, de **1995 a 2000** temos uma frequência muito baixa de registros, onde a partir de 2000 se eleva vertiginosamente e alcança certa \"estabilidade\", um platô, por volta de 2003, onde a variação subsequente não é tão expressiva."
   ]
  },
  {
   "attachments": {},
   "cell_type": "markdown",
   "metadata": {},
   "source": [
    "**Conclusão:**\n",
    "\n",
    "Podemos supor que os registros de jogos lançados por ano teve um aumento repentino a partir do ano 2000 devido ao lançamento dos console mais consagrados da indústria: **PlayStation 2 e X-Box**, que ocorreram em março de 2000 e Novembro de 2001 respectivamente.\n",
    "\n",
    "Como dados relevantes, temos o número de vendas de cada console, onde o PlayStation 2 é, até hoje, o [**console de video-games mais vendido no mercado**](https://en.wikipedia.org/wiki/List_of_best-selling_game_consoles), com mais de 155 milhões de unidades vendidadas globalmente. Já o X-Box, mais 'nichado', chegou a um número de vendas bem inferior a seu concorrente da Sony, vendendo apenas 24 milhões de cópias. Porém, mesmo com as vendas relativamente baixas quando comparados ao sucesso enorme do PS2, [**o X-Box original foi essencial para a solidifação da Microsoft no mercado de games**](https://www.gameinformer.com/b/features/archive/2011/11/15/the-10-year-anniversary-of-the-original-xbox.aspx) e no desenvolvimento de novas tecnologias para consoles. Todos esses fatores vazem do X-Box original uma peça importantíssima para compreendermos melhor esse aumento de jogos produzidos a partir de 2000.\n",
    "\n",
    "\n",
    "Abaixo seguem os números de vendas dos dois consoles:\n",
    "\n",
    "| Console       | Num. Unidades Vendidas     |\n",
    "|---------------|----------------------------|\n",
    "| X-Box         | 24 milhões                 |\n",
    "| PlayStation 2 | 155+ milhões               |"
   ]
  },
  {
   "attachments": {},
   "cell_type": "markdown",
   "metadata": {},
   "source": [
    "### **Variável Release_month**"
   ]
  },
  {
   "cell_type": "code",
   "execution_count": 42,
   "metadata": {},
   "outputs": [
    {
     "data": {
      "image/png": "[encoded data removed]",
      "text/plain": [
       "<Figure size 1200x600 with 1 Axes>"
      ]
     },
     "metadata": {},
     "output_type": "display_data"
    }
   ],
   "source": [
    "# Histograma:\n",
    "histogram_plot(data_clean, \n",
    "               'Release_month',\n",
    "               1,\n",
    "               'Distribuição de Lançamento de Jogos por Mês')"
   ]
  },
  {
   "attachments": {},
   "cell_type": "markdown",
   "metadata": {},
   "source": [
    "**Centralidade**\n",
    "\n",
    "- Em relação aos meses de lançamento dos jogos, temos uma tendência central mais ao final do ano, a partir de Setembro (9) a Dezembro (12).\n",
    "\n",
    "**Amplitude**"
   ]
  },
  {
   "cell_type": "code",
   "execution_count": 43,
   "metadata": {},
   "outputs": [
    {
     "name": "stdout",
     "output_type": "stream",
     "text": [
      "Intervalo de Tempo de 11 meses.\n"
     ]
    }
   ],
   "source": [
    "ampl = data_clean['Release_month'].max() - data_clean['Release_month'].min() \n",
    "\n",
    "print(f'Intervalo de Tempo de {ampl} meses.')"
   ]
  },
  {
   "attachments": {},
   "cell_type": "markdown",
   "metadata": {},
   "source": [
    "**Simetria**\n",
    "\n",
    "- Novamente temos uma distribuição em forma de Platô (achatada), porém dessa vez com uma distorção bem mais suave a esquerda.\n",
    "\n",
    "Como pontuado na Centralidade, temos uma tendência de mais jogos serem lançados ao fim do ano, tendo o mês de Dezembro com o maior índice de frequência nos dados. Isso se da pois o final do ano geralmente é uma data ideal de lançamento de games, devido ao natal que, para algumas empresas, [**é a janela de venda que compõe até 60% de seu lucro anual**](https://www.gamesindustry.biz/when-to-release-your-video-game).\n",
    "\n",
    "Essa janela apertada de tempo no entanto, geralmente é alvo de grandes empresas \"Triple A\" (AAA), que anunciam seus maiores e mais esperados títulos, justamente a essa potencial margem de lucro altíssima do período. Devido a isso, empresas menores e indie developers geralmente optam por lançarem seus games de menor escala e mais experimentativos fora dessa janela de fim de ano, para evitarem que seus jogos sejam ofuscados pelo hype dos games mais aclamados de empresas triple A."
   ]
  },
  {
   "attachments": {},
   "cell_type": "markdown",
   "metadata": {},
   "source": [
    "### **Variável User_score**"
   ]
  },
  {
   "attachments": {},
   "cell_type": "markdown",
   "metadata": {},
   "source": [
    "Para a variável **`User_score`**, vamos plotar o histograma apenas de registros que receberam avaliações, ou seja, iremos ignorar os registros que inserimos -1 na tratativa de dados."
   ]
  },
  {
   "cell_type": "code",
   "execution_count": 44,
   "metadata": {},
   "outputs": [],
   "source": [
    "# Coletando apenas registros que contém avaliações de usuários:\n",
    "user_score_data = data_clean.query('User_score != -1')['User_score']"
   ]
  },
  {
   "cell_type": "code",
   "execution_count": 45,
   "metadata": {},
   "outputs": [
    {
     "data": {
      "image/png": "[encoded data removed]",
      "text/plain": [
       "<Figure size 1200x600 with 1 Axes>"
      ]
     },
     "metadata": {},
     "output_type": "display_data"
    }
   ],
   "source": [
    "# Histograma:\n",
    "histogram_plot(data_clean, \n",
    "               user_score_data,\n",
    "               0.3,\n",
    "               'Distribuição de Avaliações de Usuários')"
   ]
  },
  {
   "attachments": {},
   "cell_type": "markdown",
   "metadata": {},
   "source": [
    "**Centralidade**\n",
    "\n",
    "- Em relação as notas fornecidas pelos usuários, temos uma tendência central dos dados entre 7 e 8, como a mediana de 7.1 nos apontou anteriormente.\n",
    "\n",
    "**Amplitude**\n",
    "\n",
    "Temos uma amplitude pequena por se tratar de uma avaliação, indo de 0 a 10.\n",
    "\n",
    "**Simetria**\n",
    "\n",
    "- A distribuição dos dados aponta uma clara distorção a direita."
   ]
  },
  {
   "attachments": {},
   "cell_type": "markdown",
   "metadata": {},
   "source": [
    "### **Variável Metascore**"
   ]
  },
  {
   "cell_type": "code",
   "execution_count": 53,
   "metadata": {},
   "outputs": [
    {
     "data": {
      "image/png": "[encoded data removed]",
      "text/plain": [
       "<Figure size 1200x600 with 1 Axes>"
      ]
     },
     "metadata": {},
     "output_type": "display_data"
    }
   ],
   "source": [
    "# Histograma:\n",
    "histogram_plot(data_clean, \n",
    "               'Metascore',\n",
    "               1,\n",
    "               'Distribuição de Avaliações Metacritic')"
   ]
  },
  {
   "attachments": {},
   "cell_type": "markdown",
   "metadata": {},
   "source": [
    "**Centralidade**\n",
    "\n",
    "- Em relação as notas fornecidas pelo Metacritic, temos uma tendência central dos dados entre 70 e 80. A distribuição de notas do Metacritic parece seguir o mesmo padrão das notas fornecidas pelos usuários, o que demonstra que as notas fornecidas pelo site não são tão discrepantes em relação as fornecidas pelos usuários. A correlação exata dessas duas métricas de avaliação será estudada mais a frente.\n",
    "\n",
    "**Amplitude**\n",
    "\n",
    "Temos uma amplitude de dados variando de 0 a 100.\n",
    "\n",
    "**Simetria**\n",
    "\n",
    "- A distribuição dos dados aponta uma clara distorção a direita, novamente, muito similiar a distribuição das notas fornecidas pelos usuários."
   ]
  },
  {
   "attachments": {},
   "cell_type": "markdown",
   "metadata": {},
   "source": [
    "### **Conclusão das Análises Distributivas**"
   ]
  },
  {
   "attachments": {},
   "cell_type": "markdown",
   "metadata": {},
   "source": [
    "Com a visualização dos data points e de suas distribuições utilizando Histogramas, fomos capazes de levantar algumas informações importantes sobre o Dataset, antes mesmo de iniciarmos a Análise Exploratória em si. Como informações relevantes, temos que:\n",
    "\n",
    "<font color='gold'>**_1._**</font> O lançamento dos consoles PlayStation 2 e X-Box aparentam ter tido um impacto direto na quantidade de jogos lançados por ano a partir de 2000, tendo um aumento vertiginoso no número de lançamentos de games após esses consoles entrarem no mercado;\n",
    "\n",
    "<font color='gold'>**_2._**</font> O quarto trimestre, englobado pelos meses de Outubro, Novembro e Dezembro, é o período do ano em que mais jogos são lançados, especialmente durante o mês de Dezembro, onde o lançamento de jogos aparenta se acumular devido a datas comemorativas como o Natal e suas possibilidades de lucro. Porém, esse período é foco primário de empresas Triple-A, forçando desenvolvedoras indie a avaliarem com cautela um lançamento próprio durante o quarto trimestre;\n",
    "\n",
    "<font color='gold'>**_3._**</font> As notas fornecidas pelos usuários e pelo Metacritic aparentam uma certa sincronização, onde temos padrões similares de avaliação desses dois grupos, tendendo a fornecer avaliações entre 7 e 8, ou 70 e 80 para games. "
   ]
  }
 ],
 "metadata": {
  "kernelspec": {
   "display_name": "base",
   "language": "python",
   "name": "python3"
  },
  "language_info": {
   "codemirror_mode": {
    "name": "ipython",
    "version": 3
   },
   "file_extension": ".py",
   "mimetype": "text/x-python",
   "name": "python",
   "nbconvert_exporter": "python",
   "pygments_lexer": "ipython3",
   "version": "3.9.16"
  },
  "orig_nbformat": 4,
  "vscode": {
   "interpreter": {
    "hash": "594af92f1fbe2151803567768ef02c6f133f2dd09ab238e968f9d14c9ef1bc27"
   }
  }
 },
 "nbformat": 4,
 "nbformat_minor": 2
}
